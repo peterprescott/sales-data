{
 "cells": [
  {
   "cell_type": "markdown",
   "metadata": {},
   "source": [
    "# Sales Forecasting"
   ]
  },
  {
   "cell_type": "markdown",
   "metadata": {},
   "source": [
    "## Introduction"
   ]
  },
  {
   "cell_type": "markdown",
   "metadata": {},
   "source": [
    "### Task"
   ]
  },
  {
   "cell_type": "markdown",
   "metadata": {},
   "source": [
    "You are expected to collaborate with your group members to\n",
    "understand the business problem and lay out the data preprocessing plan for formative feedback, before you complete an\n",
    "individual report (length: 2500 words) for assessment. \n",
    "Your work should cover (but not be limited to) the following.\n",
    "- Review the data and describe them in terms of available\n",
    "variables, quality, and relevance to the sales forecasting,\n",
    "- Integrate relevant data sets together as appropriate,\n",
    "- Pre-process the data as appropriate for further analytics, for\n",
    "example, encode categorical variables, create new variables,\n",
    "identify and deal with missing values or records as appropriate.\n",
    "- Identify the key variables affecting sales, for example, check\n",
    "whether competition and promotions have an impact on sales,\n",
    "and how public holidays cause sales fluctuations.\n",
    "- Build a forecasting model (which can be a simple regression\n",
    "model or any advanced machine learning model you are familiar\n",
    "with). The main focus here is to check the validity of the variables\n",
    "you’ve pre-processed and identified above, rather than to build a\n",
    "sophisticated forecasting model.\n",
    "- Interpret key results, assumptions and limitations of your data\n",
    "pre-processing and analysis."
   ]
  },
  {
   "cell_type": "markdown",
   "metadata": {},
   "source": [
    "### Setting Up"
   ]
  },
  {
   "cell_type": "markdown",
   "metadata": {},
   "source": [
    "As [before](https://github.com/peterprescott/ward-lifetimes/blob/master/ward_lifetimes.ipynb), I recommend working in this notebook in a Docker container.\n",
    "\n",
    "```\n",
    "docker container run -it -p 8888:8888 darribas/gds_py:4.0 bash\n",
    "git clone https://github.com/peterprescott/sales-data\n",
    "cd ward-lifetimes\n",
    "jupyter lab\n",
    "```\n",
    "\n",
    "This may take a little while to download. When it is ready, you will then be instructed to copy into your browser a URL that looks like this: http://127.0.0.1:8888/?token=39dd92f7720d42d5f9abab59485ca208a4dafb877852f1be (though your security token at the end will be different). Do that, click ward_lifetimes.ipynb on the left sidebar, and you should find yourself looking at a live version of this notebook."
   ]
  },
  {
   "cell_type": "markdown",
   "metadata": {},
   "source": [
    "## Review Data"
   ]
  },
  {
   "cell_type": "code",
   "execution_count": 217,
   "metadata": {},
   "outputs": [
    {
     "data": {
      "text/html": [
       "<div>\n",
       "<style scoped>\n",
       "    .dataframe tbody tr th:only-of-type {\n",
       "        vertical-align: middle;\n",
       "    }\n",
       "\n",
       "    .dataframe tbody tr th {\n",
       "        vertical-align: top;\n",
       "    }\n",
       "\n",
       "    .dataframe thead th {\n",
       "        text-align: right;\n",
       "    }\n",
       "</style>\n",
       "<table border=\"1\" class=\"dataframe\">\n",
       "  <thead>\n",
       "    <tr style=\"text-align: right;\">\n",
       "      <th></th>\n",
       "      <th>Store</th>\n",
       "      <th>StoreType</th>\n",
       "      <th>Assortment</th>\n",
       "      <th>CompetitionDistance</th>\n",
       "      <th>CompetitionOpenSinceMonth</th>\n",
       "      <th>CompetitionOpenSinceYear</th>\n",
       "      <th>Promo2</th>\n",
       "      <th>Promo2SinceWeek</th>\n",
       "      <th>Promo2SinceYear</th>\n",
       "      <th>PromoInterval</th>\n",
       "    </tr>\n",
       "  </thead>\n",
       "  <tbody>\n",
       "    <tr>\n",
       "      <th>0</th>\n",
       "      <td>1</td>\n",
       "      <td>c</td>\n",
       "      <td>a</td>\n",
       "      <td>1270.0</td>\n",
       "      <td>9.0</td>\n",
       "      <td>2008.0</td>\n",
       "      <td>0</td>\n",
       "      <td>NaN</td>\n",
       "      <td>NaN</td>\n",
       "      <td>NaN</td>\n",
       "    </tr>\n",
       "    <tr>\n",
       "      <th>1</th>\n",
       "      <td>2</td>\n",
       "      <td>a</td>\n",
       "      <td>a</td>\n",
       "      <td>570.0</td>\n",
       "      <td>11.0</td>\n",
       "      <td>2007.0</td>\n",
       "      <td>1</td>\n",
       "      <td>13.0</td>\n",
       "      <td>2010.0</td>\n",
       "      <td>Jan,Apr,Jul,Oct</td>\n",
       "    </tr>\n",
       "    <tr>\n",
       "      <th>2</th>\n",
       "      <td>3</td>\n",
       "      <td>a</td>\n",
       "      <td>a</td>\n",
       "      <td>14130.0</td>\n",
       "      <td>12.0</td>\n",
       "      <td>2006.0</td>\n",
       "      <td>1</td>\n",
       "      <td>14.0</td>\n",
       "      <td>2011.0</td>\n",
       "      <td>Jan,Apr,Jul,Oct</td>\n",
       "    </tr>\n",
       "    <tr>\n",
       "      <th>3</th>\n",
       "      <td>4</td>\n",
       "      <td>c</td>\n",
       "      <td>c</td>\n",
       "      <td>620.0</td>\n",
       "      <td>9.0</td>\n",
       "      <td>2009.0</td>\n",
       "      <td>0</td>\n",
       "      <td>NaN</td>\n",
       "      <td>NaN</td>\n",
       "      <td>NaN</td>\n",
       "    </tr>\n",
       "    <tr>\n",
       "      <th>4</th>\n",
       "      <td>5</td>\n",
       "      <td>a</td>\n",
       "      <td>a</td>\n",
       "      <td>29910.0</td>\n",
       "      <td>4.0</td>\n",
       "      <td>2015.0</td>\n",
       "      <td>0</td>\n",
       "      <td>NaN</td>\n",
       "      <td>NaN</td>\n",
       "      <td>NaN</td>\n",
       "    </tr>\n",
       "    <tr>\n",
       "      <th>...</th>\n",
       "      <td>...</td>\n",
       "      <td>...</td>\n",
       "      <td>...</td>\n",
       "      <td>...</td>\n",
       "      <td>...</td>\n",
       "      <td>...</td>\n",
       "      <td>...</td>\n",
       "      <td>...</td>\n",
       "      <td>...</td>\n",
       "      <td>...</td>\n",
       "    </tr>\n",
       "    <tr>\n",
       "      <th>1110</th>\n",
       "      <td>1111</td>\n",
       "      <td>a</td>\n",
       "      <td>a</td>\n",
       "      <td>1900.0</td>\n",
       "      <td>6.0</td>\n",
       "      <td>2014.0</td>\n",
       "      <td>1</td>\n",
       "      <td>31.0</td>\n",
       "      <td>2013.0</td>\n",
       "      <td>Jan,Apr,Jul,Oct</td>\n",
       "    </tr>\n",
       "    <tr>\n",
       "      <th>1111</th>\n",
       "      <td>1112</td>\n",
       "      <td>c</td>\n",
       "      <td>c</td>\n",
       "      <td>1880.0</td>\n",
       "      <td>4.0</td>\n",
       "      <td>2006.0</td>\n",
       "      <td>0</td>\n",
       "      <td>NaN</td>\n",
       "      <td>NaN</td>\n",
       "      <td>NaN</td>\n",
       "    </tr>\n",
       "    <tr>\n",
       "      <th>1112</th>\n",
       "      <td>1113</td>\n",
       "      <td>a</td>\n",
       "      <td>c</td>\n",
       "      <td>9260.0</td>\n",
       "      <td>NaN</td>\n",
       "      <td>NaN</td>\n",
       "      <td>0</td>\n",
       "      <td>NaN</td>\n",
       "      <td>NaN</td>\n",
       "      <td>NaN</td>\n",
       "    </tr>\n",
       "    <tr>\n",
       "      <th>1113</th>\n",
       "      <td>1114</td>\n",
       "      <td>a</td>\n",
       "      <td>c</td>\n",
       "      <td>870.0</td>\n",
       "      <td>NaN</td>\n",
       "      <td>NaN</td>\n",
       "      <td>0</td>\n",
       "      <td>NaN</td>\n",
       "      <td>NaN</td>\n",
       "      <td>NaN</td>\n",
       "    </tr>\n",
       "    <tr>\n",
       "      <th>1114</th>\n",
       "      <td>1115</td>\n",
       "      <td>d</td>\n",
       "      <td>c</td>\n",
       "      <td>5350.0</td>\n",
       "      <td>NaN</td>\n",
       "      <td>NaN</td>\n",
       "      <td>1</td>\n",
       "      <td>22.0</td>\n",
       "      <td>2012.0</td>\n",
       "      <td>Mar,Jun,Sept,Dec</td>\n",
       "    </tr>\n",
       "  </tbody>\n",
       "</table>\n",
       "<p>1115 rows × 10 columns</p>\n",
       "</div>"
      ],
      "text/plain": [
       "      Store StoreType Assortment  CompetitionDistance  \\\n",
       "0         1         c          a               1270.0   \n",
       "1         2         a          a                570.0   \n",
       "2         3         a          a              14130.0   \n",
       "3         4         c          c                620.0   \n",
       "4         5         a          a              29910.0   \n",
       "...     ...       ...        ...                  ...   \n",
       "1110   1111         a          a               1900.0   \n",
       "1111   1112         c          c               1880.0   \n",
       "1112   1113         a          c               9260.0   \n",
       "1113   1114         a          c                870.0   \n",
       "1114   1115         d          c               5350.0   \n",
       "\n",
       "      CompetitionOpenSinceMonth  CompetitionOpenSinceYear  Promo2  \\\n",
       "0                           9.0                    2008.0       0   \n",
       "1                          11.0                    2007.0       1   \n",
       "2                          12.0                    2006.0       1   \n",
       "3                           9.0                    2009.0       0   \n",
       "4                           4.0                    2015.0       0   \n",
       "...                         ...                       ...     ...   \n",
       "1110                        6.0                    2014.0       1   \n",
       "1111                        4.0                    2006.0       0   \n",
       "1112                        NaN                       NaN       0   \n",
       "1113                        NaN                       NaN       0   \n",
       "1114                        NaN                       NaN       1   \n",
       "\n",
       "      Promo2SinceWeek  Promo2SinceYear     PromoInterval  \n",
       "0                 NaN              NaN               NaN  \n",
       "1                13.0           2010.0   Jan,Apr,Jul,Oct  \n",
       "2                14.0           2011.0   Jan,Apr,Jul,Oct  \n",
       "3                 NaN              NaN               NaN  \n",
       "4                 NaN              NaN               NaN  \n",
       "...               ...              ...               ...  \n",
       "1110             31.0           2013.0   Jan,Apr,Jul,Oct  \n",
       "1111              NaN              NaN               NaN  \n",
       "1112              NaN              NaN               NaN  \n",
       "1113              NaN              NaN               NaN  \n",
       "1114             22.0           2012.0  Mar,Jun,Sept,Dec  \n",
       "\n",
       "[1115 rows x 10 columns]"
      ]
     },
     "execution_count": 217,
     "metadata": {},
     "output_type": "execute_result"
    }
   ],
   "source": [
    "store"
   ]
  },
  {
   "cell_type": "code",
   "execution_count": 1,
   "metadata": {},
   "outputs": [],
   "source": [
    "import pandas as pd\n",
    "import matplotlib.pyplot as plt\n",
    "import numpy as np"
   ]
  },
  {
   "cell_type": "code",
   "execution_count": 2,
   "metadata": {},
   "outputs": [
    {
     "name": "stdout",
     "output_type": "stream",
     "text": [
      "(1115, 12)\n"
     ]
    },
    {
     "data": {
      "text/html": [
       "<div>\n",
       "<style scoped>\n",
       "    .dataframe tbody tr th:only-of-type {\n",
       "        vertical-align: middle;\n",
       "    }\n",
       "\n",
       "    .dataframe tbody tr th {\n",
       "        vertical-align: top;\n",
       "    }\n",
       "\n",
       "    .dataframe thead th {\n",
       "        text-align: right;\n",
       "    }\n",
       "</style>\n",
       "<table border=\"1\" class=\"dataframe\">\n",
       "  <thead>\n",
       "    <tr style=\"text-align: right;\">\n",
       "      <th></th>\n",
       "      <th>0</th>\n",
       "      <th>1</th>\n",
       "      <th>2</th>\n",
       "      <th>3</th>\n",
       "      <th>4</th>\n",
       "    </tr>\n",
       "  </thead>\n",
       "  <tbody>\n",
       "    <tr>\n",
       "      <th>Store</th>\n",
       "      <td>1</td>\n",
       "      <td>2</td>\n",
       "      <td>3</td>\n",
       "      <td>4</td>\n",
       "      <td>5</td>\n",
       "    </tr>\n",
       "    <tr>\n",
       "      <th>StoreType</th>\n",
       "      <td>c</td>\n",
       "      <td>a</td>\n",
       "      <td>a</td>\n",
       "      <td>c</td>\n",
       "      <td>a</td>\n",
       "    </tr>\n",
       "    <tr>\n",
       "      <th>Assortment</th>\n",
       "      <td>a</td>\n",
       "      <td>a</td>\n",
       "      <td>a</td>\n",
       "      <td>c</td>\n",
       "      <td>a</td>\n",
       "    </tr>\n",
       "    <tr>\n",
       "      <th>CompetitionDistance</th>\n",
       "      <td>1270</td>\n",
       "      <td>570</td>\n",
       "      <td>14130</td>\n",
       "      <td>620</td>\n",
       "      <td>29910</td>\n",
       "    </tr>\n",
       "    <tr>\n",
       "      <th>CompetitionOpenSinceMonth</th>\n",
       "      <td>9</td>\n",
       "      <td>11</td>\n",
       "      <td>12</td>\n",
       "      <td>9</td>\n",
       "      <td>4</td>\n",
       "    </tr>\n",
       "    <tr>\n",
       "      <th>CompetitionOpenSinceYear</th>\n",
       "      <td>2008</td>\n",
       "      <td>2007</td>\n",
       "      <td>2006</td>\n",
       "      <td>2009</td>\n",
       "      <td>2015</td>\n",
       "    </tr>\n",
       "    <tr>\n",
       "      <th>Promo2</th>\n",
       "      <td>0</td>\n",
       "      <td>1</td>\n",
       "      <td>1</td>\n",
       "      <td>0</td>\n",
       "      <td>0</td>\n",
       "    </tr>\n",
       "    <tr>\n",
       "      <th>Promo2SinceWeek</th>\n",
       "      <td>NaN</td>\n",
       "      <td>13</td>\n",
       "      <td>14</td>\n",
       "      <td>NaN</td>\n",
       "      <td>NaN</td>\n",
       "    </tr>\n",
       "    <tr>\n",
       "      <th>Promo2SinceYear</th>\n",
       "      <td>NaN</td>\n",
       "      <td>2010</td>\n",
       "      <td>2011</td>\n",
       "      <td>NaN</td>\n",
       "      <td>NaN</td>\n",
       "    </tr>\n",
       "    <tr>\n",
       "      <th>PromoInterval</th>\n",
       "      <td>NaN</td>\n",
       "      <td>Jan,Apr,Jul,Oct</td>\n",
       "      <td>Jan,Apr,Jul,Oct</td>\n",
       "      <td>NaN</td>\n",
       "      <td>NaN</td>\n",
       "    </tr>\n",
       "    <tr>\n",
       "      <th>Unnamed: 10</th>\n",
       "      <td>NaN</td>\n",
       "      <td>NaN</td>\n",
       "      <td>NaN</td>\n",
       "      <td>NaN</td>\n",
       "      <td>NaN</td>\n",
       "    </tr>\n",
       "    <tr>\n",
       "      <th>Unnamed: 11</th>\n",
       "      <td></td>\n",
       "      <td>NaN</td>\n",
       "      <td>NaN</td>\n",
       "      <td>NaN</td>\n",
       "      <td>NaN</td>\n",
       "    </tr>\n",
       "  </tbody>\n",
       "</table>\n",
       "</div>"
      ],
      "text/plain": [
       "                              0                1                2     3      4\n",
       "Store                         1                2                3     4      5\n",
       "StoreType                     c                a                a     c      a\n",
       "Assortment                    a                a                a     c      a\n",
       "CompetitionDistance        1270              570            14130   620  29910\n",
       "CompetitionOpenSinceMonth     9               11               12     9      4\n",
       "CompetitionOpenSinceYear   2008             2007             2006  2009   2015\n",
       "Promo2                        0                1                1     0      0\n",
       "Promo2SinceWeek             NaN               13               14   NaN    NaN\n",
       "Promo2SinceYear             NaN             2010             2011   NaN    NaN\n",
       "PromoInterval               NaN  Jan,Apr,Jul,Oct  Jan,Apr,Jul,Oct   NaN    NaN\n",
       "Unnamed: 10                 NaN              NaN              NaN   NaN    NaN\n",
       "Unnamed: 11                                  NaN              NaN   NaN    NaN"
      ]
     },
     "execution_count": 2,
     "metadata": {},
     "output_type": "execute_result"
    }
   ],
   "source": [
    "# read in stores data\n",
    "store = pd.read_csv('DA1920_store.csv')\n",
    "print(store.shape)\n",
    "store.head().transpose()"
   ]
  },
  {
   "cell_type": "code",
   "execution_count": 3,
   "metadata": {},
   "outputs": [
    {
     "data": {
      "text/html": [
       "<div>\n",
       "<style scoped>\n",
       "    .dataframe tbody tr th:only-of-type {\n",
       "        vertical-align: middle;\n",
       "    }\n",
       "\n",
       "    .dataframe tbody tr th {\n",
       "        vertical-align: top;\n",
       "    }\n",
       "\n",
       "    .dataframe thead th {\n",
       "        text-align: right;\n",
       "    }\n",
       "</style>\n",
       "<table border=\"1\" class=\"dataframe\">\n",
       "  <thead>\n",
       "    <tr style=\"text-align: right;\">\n",
       "      <th></th>\n",
       "      <th>Store</th>\n",
       "      <th>StoreType</th>\n",
       "      <th>Assortment</th>\n",
       "      <th>CompetitionDistance</th>\n",
       "      <th>CompetitionOpenSinceMonth</th>\n",
       "      <th>CompetitionOpenSinceYear</th>\n",
       "      <th>Promo2</th>\n",
       "      <th>Promo2SinceWeek</th>\n",
       "      <th>Promo2SinceYear</th>\n",
       "      <th>PromoInterval</th>\n",
       "      <th>Unnamed: 10</th>\n",
       "      <th>Unnamed: 11</th>\n",
       "    </tr>\n",
       "  </thead>\n",
       "  <tbody>\n",
       "    <tr>\n",
       "      <th>0</th>\n",
       "      <td>1</td>\n",
       "      <td>c</td>\n",
       "      <td>a</td>\n",
       "      <td>1270.0</td>\n",
       "      <td>9.0</td>\n",
       "      <td>2008.0</td>\n",
       "      <td>0</td>\n",
       "      <td>NaN</td>\n",
       "      <td>NaN</td>\n",
       "      <td>NaN</td>\n",
       "      <td>NaN</td>\n",
       "      <td></td>\n",
       "    </tr>\n",
       "  </tbody>\n",
       "</table>\n",
       "</div>"
      ],
      "text/plain": [
       "   Store StoreType Assortment  CompetitionDistance  CompetitionOpenSinceMonth  \\\n",
       "0      1         c          a               1270.0                        9.0   \n",
       "\n",
       "   CompetitionOpenSinceYear  Promo2  Promo2SinceWeek  Promo2SinceYear  \\\n",
       "0                    2008.0       0              NaN              NaN   \n",
       "\n",
       "  PromoInterval  Unnamed: 10 Unnamed: 11  \n",
       "0           NaN          NaN              "
      ]
     },
     "execution_count": 3,
     "metadata": {},
     "output_type": "execute_result"
    }
   ],
   "source": [
    "store.loc[store[\"Unnamed: 11\"].isnull()==False]"
   ]
  },
  {
   "cell_type": "code",
   "execution_count": 4,
   "metadata": {},
   "outputs": [
    {
     "data": {
      "text/html": [
       "<div>\n",
       "<style scoped>\n",
       "    .dataframe tbody tr th:only-of-type {\n",
       "        vertical-align: middle;\n",
       "    }\n",
       "\n",
       "    .dataframe tbody tr th {\n",
       "        vertical-align: top;\n",
       "    }\n",
       "\n",
       "    .dataframe thead th {\n",
       "        text-align: right;\n",
       "    }\n",
       "</style>\n",
       "<table border=\"1\" class=\"dataframe\">\n",
       "  <thead>\n",
       "    <tr style=\"text-align: right;\">\n",
       "      <th></th>\n",
       "      <th>Store</th>\n",
       "      <th>StoreType</th>\n",
       "      <th>Assortment</th>\n",
       "      <th>CompetitionDistance</th>\n",
       "      <th>CompetitionOpenSinceMonth</th>\n",
       "      <th>CompetitionOpenSinceYear</th>\n",
       "      <th>Promo2</th>\n",
       "      <th>Promo2SinceWeek</th>\n",
       "      <th>Promo2SinceYear</th>\n",
       "      <th>PromoInterval</th>\n",
       "      <th>Unnamed: 10</th>\n",
       "      <th>Unnamed: 11</th>\n",
       "    </tr>\n",
       "  </thead>\n",
       "  <tbody>\n",
       "  </tbody>\n",
       "</table>\n",
       "</div>"
      ],
      "text/plain": [
       "Empty DataFrame\n",
       "Columns: [Store, StoreType, Assortment, CompetitionDistance, CompetitionOpenSinceMonth, CompetitionOpenSinceYear, Promo2, Promo2SinceWeek, Promo2SinceYear, PromoInterval, Unnamed: 10, Unnamed: 11]\n",
       "Index: []"
      ]
     },
     "execution_count": 4,
     "metadata": {},
     "output_type": "execute_result"
    }
   ],
   "source": [
    "store.loc[store[\"Unnamed: 10\"].isnull()==False]"
   ]
  },
  {
   "cell_type": "code",
   "execution_count": 5,
   "metadata": {},
   "outputs": [],
   "source": [
    "store.drop(columns=[\"Unnamed: 11\", \"Unnamed: 10\"], inplace=True)"
   ]
  },
  {
   "cell_type": "code",
   "execution_count": 6,
   "metadata": {},
   "outputs": [
    {
     "name": "stdout",
     "output_type": "stream",
     "text": [
      "<class 'pandas.core.frame.DataFrame'>\n",
      "RangeIndex: 1115 entries, 0 to 1114\n",
      "Data columns (total 10 columns):\n",
      " #   Column                     Non-Null Count  Dtype  \n",
      "---  ------                     --------------  -----  \n",
      " 0   Store                      1115 non-null   int64  \n",
      " 1   StoreType                  1115 non-null   object \n",
      " 2   Assortment                 1115 non-null   object \n",
      " 3   CompetitionDistance        1112 non-null   float64\n",
      " 4   CompetitionOpenSinceMonth  761 non-null    float64\n",
      " 5   CompetitionOpenSinceYear   761 non-null    float64\n",
      " 6   Promo2                     1115 non-null   int64  \n",
      " 7   Promo2SinceWeek            571 non-null    float64\n",
      " 8   Promo2SinceYear            571 non-null    float64\n",
      " 9   PromoInterval              571 non-null    object \n",
      "dtypes: float64(5), int64(2), object(3)\n",
      "memory usage: 87.2+ KB\n"
     ]
    }
   ],
   "source": [
    "store.info()"
   ]
  },
  {
   "cell_type": "code",
   "execution_count": 7,
   "metadata": {},
   "outputs": [
    {
     "data": {
      "text/plain": [
       "count    1115.00000\n",
       "mean      558.00000\n",
       "std       322.01708\n",
       "min         1.00000\n",
       "25%       279.50000\n",
       "50%       558.00000\n",
       "75%       836.50000\n",
       "max      1115.00000\n",
       "Name: Store, dtype: float64"
      ]
     },
     "execution_count": 7,
     "metadata": {},
     "output_type": "execute_result"
    }
   ],
   "source": [
    "store.Store.describe() # as it should be"
   ]
  },
  {
   "cell_type": "code",
   "execution_count": 8,
   "metadata": {},
   "outputs": [
    {
     "name": "stdout",
     "output_type": "stream",
     "text": [
      "count     1115\n",
      "unique       4\n",
      "top          a\n",
      "freq       602\n",
      "Name: StoreType, dtype: object\n",
      "a    602\n",
      "d    348\n",
      "c    148\n",
      "b     17\n",
      "Name: StoreType, dtype: int64\n"
     ]
    }
   ],
   "source": [
    "print(store.StoreType.describe())\n",
    "print(store.StoreType.value_counts()) # no null values"
   ]
  },
  {
   "cell_type": "code",
   "execution_count": 9,
   "metadata": {},
   "outputs": [
    {
     "name": "stdout",
     "output_type": "stream",
     "text": [
      "count     1115\n",
      "unique       3\n",
      "top          a\n",
      "freq       593\n",
      "Name: Assortment, dtype: object\n",
      "a    593\n",
      "c    513\n",
      "b      9\n",
      "Name: Assortment, dtype: int64\n"
     ]
    }
   ],
   "source": [
    "print(store.Assortment.describe())\n",
    "print(store.Assortment.value_counts()) # no null values"
   ]
  },
  {
   "cell_type": "code",
   "execution_count": 10,
   "metadata": {},
   "outputs": [
    {
     "name": "stdout",
     "output_type": "stream",
     "text": [
      "count     1112.000000\n",
      "mean      5404.901079\n",
      "std       7663.174720\n",
      "min         20.000000\n",
      "25%        717.500000\n",
      "50%       2325.000000\n",
      "75%       6882.500000\n",
      "max      75860.000000\n",
      "Name: CompetitionDistance, dtype: float64\n",
      "False    1112\n",
      "True        3\n",
      "Name: CompetitionDistance, dtype: int64\n"
     ]
    }
   ],
   "source": [
    "print(store.CompetitionDistance.describe())\n",
    "print(store.CompetitionDistance.isnull().value_counts()) # null for 3"
   ]
  },
  {
   "cell_type": "code",
   "execution_count": 11,
   "metadata": {},
   "outputs": [
    {
     "data": {
      "text/plain": [
       "<matplotlib.axes._subplots.AxesSubplot at 0x7f4fb72dac10>"
      ]
     },
     "execution_count": 11,
     "metadata": {},
     "output_type": "execute_result"
    },
    {
     "data": {
      "image/png": "[encoded data removed]",
      "text/plain": [
       "<Figure size 432x288 with 1 Axes>"
      ]
     },
     "metadata": {
      "needs_background": "light"
     },
     "output_type": "display_data"
    }
   ],
   "source": [
    "store.CompetitionDistance.hist(bins=200)"
   ]
  },
  {
   "cell_type": "code",
   "execution_count": 12,
   "metadata": {},
   "outputs": [
    {
     "name": "stdout",
     "output_type": "stream",
     "text": [
      "count    761.000000\n",
      "mean       7.224704\n",
      "std        3.212348\n",
      "min        1.000000\n",
      "25%        4.000000\n",
      "50%        8.000000\n",
      "75%       10.000000\n",
      "max       12.000000\n",
      "Name: CompetitionOpenSinceMonth, dtype: float64\n",
      "False    761\n",
      "True     354\n",
      "Name: CompetitionOpenSinceMonth, dtype: int64\n"
     ]
    }
   ],
   "source": [
    "print(store.CompetitionOpenSinceMonth.describe())\n",
    "print(store.CompetitionOpenSinceMonth.isnull().value_counts()) # null for 354"
   ]
  },
  {
   "cell_type": "code",
   "execution_count": 13,
   "metadata": {},
   "outputs": [
    {
     "name": "stdout",
     "output_type": "stream",
     "text": [
      "count     761.000000\n",
      "mean     2008.668857\n",
      "std         6.195983\n",
      "min      1900.000000\n",
      "25%      2006.000000\n",
      "50%      2010.000000\n",
      "75%      2013.000000\n",
      "max      2015.000000\n",
      "Name: CompetitionOpenSinceYear, dtype: float64\n",
      "False    761\n",
      "True     354\n",
      "Name: CompetitionOpenSinceYear, dtype: int64\n"
     ]
    }
   ],
   "source": [
    "print(store.CompetitionOpenSinceYear.describe())\n",
    "print(store.CompetitionOpenSinceYear.isnull().value_counts()) # null for 354 ~ check these are same as above..."
   ]
  },
  {
   "cell_type": "code",
   "execution_count": 14,
   "metadata": {},
   "outputs": [
    {
     "data": {
      "text/html": [
       "<div>\n",
       "<style scoped>\n",
       "    .dataframe tbody tr th:only-of-type {\n",
       "        vertical-align: middle;\n",
       "    }\n",
       "\n",
       "    .dataframe tbody tr th {\n",
       "        vertical-align: top;\n",
       "    }\n",
       "\n",
       "    .dataframe thead th {\n",
       "        text-align: right;\n",
       "    }\n",
       "</style>\n",
       "<table border=\"1\" class=\"dataframe\">\n",
       "  <thead>\n",
       "    <tr style=\"text-align: right;\">\n",
       "      <th></th>\n",
       "      <th>Store</th>\n",
       "      <th>StoreType</th>\n",
       "      <th>Assortment</th>\n",
       "      <th>CompetitionDistance</th>\n",
       "      <th>CompetitionOpenSinceMonth</th>\n",
       "      <th>CompetitionOpenSinceYear</th>\n",
       "      <th>Promo2</th>\n",
       "      <th>Promo2SinceWeek</th>\n",
       "      <th>Promo2SinceYear</th>\n",
       "      <th>PromoInterval</th>\n",
       "    </tr>\n",
       "  </thead>\n",
       "  <tbody>\n",
       "    <tr>\n",
       "      <th>4</th>\n",
       "      <td>5</td>\n",
       "      <td>a</td>\n",
       "      <td>a</td>\n",
       "      <td>29910.0</td>\n",
       "      <td>4.0</td>\n",
       "      <td>2015.0</td>\n",
       "      <td>0</td>\n",
       "      <td>NaN</td>\n",
       "      <td>NaN</td>\n",
       "      <td>NaN</td>\n",
       "    </tr>\n",
       "    <tr>\n",
       "      <th>5</th>\n",
       "      <td>6</td>\n",
       "      <td>a</td>\n",
       "      <td>a</td>\n",
       "      <td>310.0</td>\n",
       "      <td>12.0</td>\n",
       "      <td>2013.0</td>\n",
       "      <td>0</td>\n",
       "      <td>NaN</td>\n",
       "      <td>NaN</td>\n",
       "      <td>NaN</td>\n",
       "    </tr>\n",
       "    <tr>\n",
       "      <th>6</th>\n",
       "      <td>7</td>\n",
       "      <td>a</td>\n",
       "      <td>c</td>\n",
       "      <td>24000.0</td>\n",
       "      <td>4.0</td>\n",
       "      <td>2013.0</td>\n",
       "      <td>0</td>\n",
       "      <td>NaN</td>\n",
       "      <td>NaN</td>\n",
       "      <td>NaN</td>\n",
       "    </tr>\n",
       "    <tr>\n",
       "      <th>7</th>\n",
       "      <td>8</td>\n",
       "      <td>a</td>\n",
       "      <td>a</td>\n",
       "      <td>7520.0</td>\n",
       "      <td>10.0</td>\n",
       "      <td>2014.0</td>\n",
       "      <td>0</td>\n",
       "      <td>NaN</td>\n",
       "      <td>NaN</td>\n",
       "      <td>NaN</td>\n",
       "    </tr>\n",
       "    <tr>\n",
       "      <th>13</th>\n",
       "      <td>14</td>\n",
       "      <td>a</td>\n",
       "      <td>a</td>\n",
       "      <td>1300.0</td>\n",
       "      <td>3.0</td>\n",
       "      <td>2014.0</td>\n",
       "      <td>1</td>\n",
       "      <td>40.0</td>\n",
       "      <td>2011.0</td>\n",
       "      <td>Jan,Apr,Jul,Oct</td>\n",
       "    </tr>\n",
       "    <tr>\n",
       "      <th>...</th>\n",
       "      <td>...</td>\n",
       "      <td>...</td>\n",
       "      <td>...</td>\n",
       "      <td>...</td>\n",
       "      <td>...</td>\n",
       "      <td>...</td>\n",
       "      <td>...</td>\n",
       "      <td>...</td>\n",
       "      <td>...</td>\n",
       "      <td>...</td>\n",
       "    </tr>\n",
       "    <tr>\n",
       "      <th>1084</th>\n",
       "      <td>1085</td>\n",
       "      <td>c</td>\n",
       "      <td>a</td>\n",
       "      <td>4030.0</td>\n",
       "      <td>2.0</td>\n",
       "      <td>2015.0</td>\n",
       "      <td>0</td>\n",
       "      <td>NaN</td>\n",
       "      <td>NaN</td>\n",
       "      <td>NaN</td>\n",
       "    </tr>\n",
       "    <tr>\n",
       "      <th>1085</th>\n",
       "      <td>1086</td>\n",
       "      <td>a</td>\n",
       "      <td>a</td>\n",
       "      <td>180.0</td>\n",
       "      <td>11.0</td>\n",
       "      <td>2013.0</td>\n",
       "      <td>1</td>\n",
       "      <td>18.0</td>\n",
       "      <td>2011.0</td>\n",
       "      <td>Feb,May,Aug,Nov</td>\n",
       "    </tr>\n",
       "    <tr>\n",
       "      <th>1093</th>\n",
       "      <td>1094</td>\n",
       "      <td>d</td>\n",
       "      <td>a</td>\n",
       "      <td>2380.0</td>\n",
       "      <td>3.0</td>\n",
       "      <td>2013.0</td>\n",
       "      <td>1</td>\n",
       "      <td>40.0</td>\n",
       "      <td>2014.0</td>\n",
       "      <td>Jan,Apr,Jul,Oct</td>\n",
       "    </tr>\n",
       "    <tr>\n",
       "      <th>1098</th>\n",
       "      <td>1099</td>\n",
       "      <td>a</td>\n",
       "      <td>c</td>\n",
       "      <td>200.0</td>\n",
       "      <td>4.0</td>\n",
       "      <td>2013.0</td>\n",
       "      <td>1</td>\n",
       "      <td>14.0</td>\n",
       "      <td>2013.0</td>\n",
       "      <td>Jan,Apr,Jul,Oct</td>\n",
       "    </tr>\n",
       "    <tr>\n",
       "      <th>1110</th>\n",
       "      <td>1111</td>\n",
       "      <td>a</td>\n",
       "      <td>a</td>\n",
       "      <td>1900.0</td>\n",
       "      <td>6.0</td>\n",
       "      <td>2014.0</td>\n",
       "      <td>1</td>\n",
       "      <td>31.0</td>\n",
       "      <td>2013.0</td>\n",
       "      <td>Jan,Apr,Jul,Oct</td>\n",
       "    </tr>\n",
       "  </tbody>\n",
       "</table>\n",
       "<p>191 rows × 10 columns</p>\n",
       "</div>"
      ],
      "text/plain": [
       "      Store StoreType Assortment  CompetitionDistance  \\\n",
       "4         5         a          a              29910.0   \n",
       "5         6         a          a                310.0   \n",
       "6         7         a          c              24000.0   \n",
       "7         8         a          a               7520.0   \n",
       "13       14         a          a               1300.0   \n",
       "...     ...       ...        ...                  ...   \n",
       "1084   1085         c          a               4030.0   \n",
       "1085   1086         a          a                180.0   \n",
       "1093   1094         d          a               2380.0   \n",
       "1098   1099         a          c                200.0   \n",
       "1110   1111         a          a               1900.0   \n",
       "\n",
       "      CompetitionOpenSinceMonth  CompetitionOpenSinceYear  Promo2  \\\n",
       "4                           4.0                    2015.0       0   \n",
       "5                          12.0                    2013.0       0   \n",
       "6                           4.0                    2013.0       0   \n",
       "7                          10.0                    2014.0       0   \n",
       "13                          3.0                    2014.0       1   \n",
       "...                         ...                       ...     ...   \n",
       "1084                        2.0                    2015.0       0   \n",
       "1085                       11.0                    2013.0       1   \n",
       "1093                        3.0                    2013.0       1   \n",
       "1098                        4.0                    2013.0       1   \n",
       "1110                        6.0                    2014.0       1   \n",
       "\n",
       "      Promo2SinceWeek  Promo2SinceYear    PromoInterval  \n",
       "4                 NaN              NaN              NaN  \n",
       "5                 NaN              NaN              NaN  \n",
       "6                 NaN              NaN              NaN  \n",
       "7                 NaN              NaN              NaN  \n",
       "13               40.0           2011.0  Jan,Apr,Jul,Oct  \n",
       "...               ...              ...              ...  \n",
       "1084              NaN              NaN              NaN  \n",
       "1085             18.0           2011.0  Feb,May,Aug,Nov  \n",
       "1093             40.0           2014.0  Jan,Apr,Jul,Oct  \n",
       "1098             14.0           2013.0  Jan,Apr,Jul,Oct  \n",
       "1110             31.0           2013.0  Jan,Apr,Jul,Oct  \n",
       "\n",
       "[191 rows x 10 columns]"
      ]
     },
     "execution_count": 14,
     "metadata": {},
     "output_type": "execute_result"
    }
   ],
   "source": [
    "store.loc[(store.CompetitionOpenSinceYear >= 2013) & (store.CompetitionOpenSinceYear <= 2015)]"
   ]
  },
  {
   "cell_type": "code",
   "execution_count": 45,
   "metadata": {},
   "outputs": [
    {
     "data": {
      "text/plain": [
       "2010.0"
      ]
     },
     "execution_count": 45,
     "metadata": {},
     "output_type": "execute_result"
    }
   ],
   "source": [
    "combine['CompetitionOpenSinceYear'].median()\n",
    "# median is 2010, so we will assume that where year and month competition opened is nan, that it was before 2013"
   ]
  },
  {
   "cell_type": "code",
   "execution_count": 15,
   "metadata": {},
   "outputs": [
    {
     "name": "stdout",
     "output_type": "stream",
     "text": [
      "False    1115\n",
      "Name: Promo2, dtype: int64\n"
     ]
    }
   ],
   "source": [
    "print(store.Promo2.isnull().value_counts()) # no null values"
   ]
  },
  {
   "cell_type": "code",
   "execution_count": 16,
   "metadata": {},
   "outputs": [
    {
     "name": "stdout",
     "output_type": "stream",
     "text": [
      "False    571\n",
      "True     544\n",
      "Name: Promo2SinceWeek, dtype: int64\n"
     ]
    }
   ],
   "source": [
    "print(store.Promo2SinceWeek.isnull().value_counts()) # 544 null values"
   ]
  },
  {
   "cell_type": "code",
   "execution_count": 17,
   "metadata": {},
   "outputs": [
    {
     "name": "stdout",
     "output_type": "stream",
     "text": [
      "False    571\n",
      "True     544\n",
      "Name: Promo2SinceYear, dtype: int64\n"
     ]
    }
   ],
   "source": [
    "print(store.Promo2SinceYear.isnull().value_counts()) # 544 null values"
   ]
  },
  {
   "cell_type": "code",
   "execution_count": 18,
   "metadata": {},
   "outputs": [
    {
     "name": "stdout",
     "output_type": "stream",
     "text": [
      "False    571\n",
      "True     544\n",
      "Name: PromoInterval, dtype: int64\n"
     ]
    }
   ],
   "source": [
    "print(store.PromoInterval.isnull().value_counts()) # 544 null values"
   ]
  },
  {
   "cell_type": "code",
   "execution_count": 19,
   "metadata": {},
   "outputs": [
    {
     "name": "stderr",
     "output_type": "stream",
     "text": [
      "/home/peterprescott/miniconda3/envs/babel/lib/python3.8/site-packages/IPython/core/interactiveshell.py:3062: DtypeWarning: Columns (7) have mixed types.Specify dtype option on import or set low_memory=False.\n",
      "  has_raised = await self.run_ast_nodes(code_ast.body, cell_name,\n"
     ]
    },
    {
     "data": {
      "text/html": [
       "<div>\n",
       "<style scoped>\n",
       "    .dataframe tbody tr th:only-of-type {\n",
       "        vertical-align: middle;\n",
       "    }\n",
       "\n",
       "    .dataframe tbody tr th {\n",
       "        vertical-align: top;\n",
       "    }\n",
       "\n",
       "    .dataframe thead th {\n",
       "        text-align: right;\n",
       "    }\n",
       "</style>\n",
       "<table border=\"1\" class=\"dataframe\">\n",
       "  <thead>\n",
       "    <tr style=\"text-align: right;\">\n",
       "      <th></th>\n",
       "      <th>Store</th>\n",
       "      <th>DayOfWeek</th>\n",
       "      <th>Date</th>\n",
       "      <th>Sales</th>\n",
       "      <th>Customers</th>\n",
       "      <th>Open</th>\n",
       "      <th>Promo</th>\n",
       "      <th>StateHoliday</th>\n",
       "      <th>SchoolHoliday</th>\n",
       "    </tr>\n",
       "  </thead>\n",
       "  <tbody>\n",
       "    <tr>\n",
       "      <th>0</th>\n",
       "      <td>1</td>\n",
       "      <td>5</td>\n",
       "      <td>2015-07-31</td>\n",
       "      <td>5263</td>\n",
       "      <td>555</td>\n",
       "      <td>1</td>\n",
       "      <td>1</td>\n",
       "      <td>0</td>\n",
       "      <td>1</td>\n",
       "    </tr>\n",
       "    <tr>\n",
       "      <th>1</th>\n",
       "      <td>2</td>\n",
       "      <td>5</td>\n",
       "      <td>2015-07-31</td>\n",
       "      <td>6064</td>\n",
       "      <td>625</td>\n",
       "      <td>1</td>\n",
       "      <td>1</td>\n",
       "      <td>0</td>\n",
       "      <td>1</td>\n",
       "    </tr>\n",
       "    <tr>\n",
       "      <th>2</th>\n",
       "      <td>3</td>\n",
       "      <td>5</td>\n",
       "      <td>2015-07-31</td>\n",
       "      <td>8314</td>\n",
       "      <td>821</td>\n",
       "      <td>1</td>\n",
       "      <td>1</td>\n",
       "      <td>0</td>\n",
       "      <td>1</td>\n",
       "    </tr>\n",
       "    <tr>\n",
       "      <th>3</th>\n",
       "      <td>4</td>\n",
       "      <td>5</td>\n",
       "      <td>2015-07-31</td>\n",
       "      <td>13995</td>\n",
       "      <td>1498</td>\n",
       "      <td>1</td>\n",
       "      <td>1</td>\n",
       "      <td>0</td>\n",
       "      <td>1</td>\n",
       "    </tr>\n",
       "    <tr>\n",
       "      <th>4</th>\n",
       "      <td>5</td>\n",
       "      <td>5</td>\n",
       "      <td>2015-07-31</td>\n",
       "      <td>4822</td>\n",
       "      <td>559</td>\n",
       "      <td>1</td>\n",
       "      <td>1</td>\n",
       "      <td>0</td>\n",
       "      <td>1</td>\n",
       "    </tr>\n",
       "  </tbody>\n",
       "</table>\n",
       "</div>"
      ],
      "text/plain": [
       "   Store  DayOfWeek       Date  Sales  Customers  Open  Promo StateHoliday  \\\n",
       "0      1          5 2015-07-31   5263        555     1      1            0   \n",
       "1      2          5 2015-07-31   6064        625     1      1            0   \n",
       "2      3          5 2015-07-31   8314        821     1      1            0   \n",
       "3      4          5 2015-07-31  13995       1498     1      1            0   \n",
       "4      5          5 2015-07-31   4822        559     1      1            0   \n",
       "\n",
       "   SchoolHoliday  \n",
       "0              1  \n",
       "1              1  \n",
       "2              1  \n",
       "3              1  \n",
       "4              1  "
      ]
     },
     "execution_count": 19,
     "metadata": {},
     "output_type": "execute_result"
    }
   ],
   "source": [
    "# read in train data\n",
    "train = pd.read_csv('DA1920_train.csv', parse_dates=['Date'])\n",
    "train.shape\n",
    "train.head()"
   ]
  },
  {
   "cell_type": "code",
   "execution_count": 20,
   "metadata": {},
   "outputs": [
    {
     "name": "stdout",
     "output_type": "stream",
     "text": [
      "<class 'pandas.core.frame.DataFrame'>\n",
      "RangeIndex: 1017209 entries, 0 to 1017208\n",
      "Data columns (total 9 columns):\n",
      " #   Column         Non-Null Count    Dtype         \n",
      "---  ------         --------------    -----         \n",
      " 0   Store          1017209 non-null  int64         \n",
      " 1   DayOfWeek      1017209 non-null  int64         \n",
      " 2   Date           1017209 non-null  datetime64[ns]\n",
      " 3   Sales          1017209 non-null  int64         \n",
      " 4   Customers      1017209 non-null  int64         \n",
      " 5   Open           1017209 non-null  int64         \n",
      " 6   Promo          1017209 non-null  int64         \n",
      " 7   StateHoliday   1017209 non-null  object        \n",
      " 8   SchoolHoliday  1017209 non-null  int64         \n",
      "dtypes: datetime64[ns](1), int64(7), object(1)\n",
      "memory usage: 69.8+ MB\n"
     ]
    }
   ],
   "source": [
    "train.info()"
   ]
  },
  {
   "cell_type": "code",
   "execution_count": 21,
   "metadata": {},
   "outputs": [
    {
     "name": "stdout",
     "output_type": "stream",
     "text": [
      "<bound method Series.unique of 0             1\n",
      "1             2\n",
      "2             3\n",
      "3             4\n",
      "4             5\n",
      "           ... \n",
      "1017204    1111\n",
      "1017205    1112\n",
      "1017206    1113\n",
      "1017207    1114\n",
      "1017208    1115\n",
      "Name: Store, Length: 1017209, dtype: int64>\n",
      "False    1017209\n",
      "Name: Store, dtype: int64\n"
     ]
    }
   ],
   "source": [
    "print(train.Store.unique)\n",
    "print(train.Store.isnull().value_counts()) # no null values"
   ]
  },
  {
   "cell_type": "code",
   "execution_count": 22,
   "metadata": {},
   "outputs": [
    {
     "name": "stdout",
     "output_type": "stream",
     "text": [
      "False    1017209\n",
      "Name: DayOfWeek, dtype: int64\n",
      "5    145845\n",
      "4    145845\n",
      "3    145665\n",
      "2    145664\n",
      "7    144730\n",
      "6    144730\n",
      "1    144730\n",
      "Name: DayOfWeek, dtype: int64\n"
     ]
    }
   ],
   "source": [
    "print(train.DayOfWeek.isnull().value_counts()) # no null values\n",
    "print(train.DayOfWeek.value_counts())"
   ]
  },
  {
   "cell_type": "code",
   "execution_count": 23,
   "metadata": {},
   "outputs": [
    {
     "name": "stdout",
     "output_type": "stream",
     "text": [
      "False    1017209\n",
      "Name: Date, dtype: int64\n",
      "count                 1017209\n",
      "unique                    942\n",
      "top       2014-12-02 00:00:00\n",
      "freq                     1115\n",
      "first     2013-01-01 00:00:00\n",
      "last      2015-12-07 00:00:00\n",
      "Name: Date, dtype: object\n"
     ]
    }
   ],
   "source": [
    "print(train.Date.isnull().value_counts()) # no null values\n",
    "print(train.Date.describe()) # includes dates beyond the proper time frame (2013-Jan-01 to 2015-July-31)"
   ]
  },
  {
   "cell_type": "code",
   "execution_count": 24,
   "metadata": {},
   "outputs": [
    {
     "data": {
      "text/plain": [
       "numpy.datetime64('2015-07-31T00:00:00.000000000')"
      ]
     },
     "execution_count": 24,
     "metadata": {},
     "output_type": "execute_result"
    }
   ],
   "source": [
    "train.Date.unique()[0] # this is the cut-off"
   ]
  },
  {
   "cell_type": "code",
   "execution_count": 25,
   "metadata": {},
   "outputs": [],
   "source": [
    "properDates = train.loc[train.Date<=train.Date.unique()[0]]"
   ]
  },
  {
   "cell_type": "code",
   "execution_count": 26,
   "metadata": {},
   "outputs": [
    {
     "data": {
      "text/plain": [
       "count                  978184\n",
       "unique                    907\n",
       "top       2014-12-02 00:00:00\n",
       "freq                     1115\n",
       "first     2013-01-01 00:00:00\n",
       "last      2015-07-31 00:00:00\n",
       "Name: Date, dtype: object"
      ]
     },
     "execution_count": 26,
     "metadata": {},
     "output_type": "execute_result"
    }
   ],
   "source": [
    "properDates.Date.describe()"
   ]
  },
  {
   "cell_type": "code",
   "execution_count": 27,
   "metadata": {},
   "outputs": [
    {
     "data": {
      "text/plain": [
       "False    978184\n",
       "Name: Sales, dtype: int64"
      ]
     },
     "execution_count": 27,
     "metadata": {},
     "output_type": "execute_result"
    }
   ],
   "source": [
    "properDates.Sales.isnull().value_counts() # no null values"
   ]
  },
  {
   "cell_type": "code",
   "execution_count": 28,
   "metadata": {},
   "outputs": [
    {
     "data": {
      "text/plain": [
       "False    978184\n",
       "Name: Customers, dtype: int64"
      ]
     },
     "execution_count": 28,
     "metadata": {},
     "output_type": "execute_result"
    }
   ],
   "source": [
    "properDates.Customers.isnull().value_counts() # no null values"
   ]
  },
  {
   "cell_type": "code",
   "execution_count": 29,
   "metadata": {},
   "outputs": [
    {
     "data": {
      "text/plain": [
       "False    978184\n",
       "Name: Open, dtype: int64"
      ]
     },
     "execution_count": 29,
     "metadata": {},
     "output_type": "execute_result"
    }
   ],
   "source": [
    "properDates.Open.isnull().value_counts() # no null values"
   ]
  },
  {
   "cell_type": "code",
   "execution_count": 30,
   "metadata": {},
   "outputs": [
    {
     "data": {
      "text/html": [
       "<div>\n",
       "<style scoped>\n",
       "    .dataframe tbody tr th:only-of-type {\n",
       "        vertical-align: middle;\n",
       "    }\n",
       "\n",
       "    .dataframe tbody tr th {\n",
       "        vertical-align: top;\n",
       "    }\n",
       "\n",
       "    .dataframe thead th {\n",
       "        text-align: right;\n",
       "    }\n",
       "</style>\n",
       "<table border=\"1\" class=\"dataframe\">\n",
       "  <thead>\n",
       "    <tr style=\"text-align: right;\">\n",
       "      <th></th>\n",
       "      <th>Store</th>\n",
       "      <th>DayOfWeek</th>\n",
       "      <th>Date</th>\n",
       "      <th>Sales</th>\n",
       "      <th>Customers</th>\n",
       "      <th>Open</th>\n",
       "      <th>Promo</th>\n",
       "      <th>StateHoliday</th>\n",
       "      <th>SchoolHoliday</th>\n",
       "    </tr>\n",
       "  </thead>\n",
       "  <tbody>\n",
       "  </tbody>\n",
       "</table>\n",
       "</div>"
      ],
      "text/plain": [
       "Empty DataFrame\n",
       "Columns: [Store, DayOfWeek, Date, Sales, Customers, Open, Promo, StateHoliday, SchoolHoliday]\n",
       "Index: []"
      ]
     },
     "execution_count": 30,
     "metadata": {},
     "output_type": "execute_result"
    }
   ],
   "source": [
    "properDates.loc[(properDates.Sales > 0) & (properDates.Customers == 0)] # sense check"
   ]
  },
  {
   "cell_type": "code",
   "execution_count": 31,
   "metadata": {},
   "outputs": [
    {
     "data": {
      "text/plain": [
       "False    978184\n",
       "Name: Promo, dtype: int64"
      ]
     },
     "execution_count": 31,
     "metadata": {},
     "output_type": "execute_result"
    }
   ],
   "source": [
    "properDates.Promo.isnull().value_counts() # no null values"
   ]
  },
  {
   "cell_type": "code",
   "execution_count": 32,
   "metadata": {},
   "outputs": [
    {
     "data": {
      "text/plain": [
       "False    978184\n",
       "Name: StateHoliday, dtype: int64"
      ]
     },
     "execution_count": 32,
     "metadata": {},
     "output_type": "execute_result"
    }
   ],
   "source": [
    "properDates.StateHoliday.isnull().value_counts() # no null values"
   ]
  },
  {
   "cell_type": "code",
   "execution_count": 33,
   "metadata": {},
   "outputs": [
    {
     "data": {
      "text/plain": [
       "False    978184\n",
       "Name: SchoolHoliday, dtype: int64"
      ]
     },
     "execution_count": 33,
     "metadata": {},
     "output_type": "execute_result"
    }
   ],
   "source": [
    "properDates.SchoolHoliday.isnull().value_counts() # no null values"
   ]
  },
  {
   "cell_type": "code",
   "execution_count": 34,
   "metadata": {},
   "outputs": [],
   "source": [
    "# read in test data\n",
    "test = pd.read_csv('DA1920_test.csv', parse_dates=['Date'])"
   ]
  },
  {
   "cell_type": "code",
   "execution_count": 35,
   "metadata": {
    "lines_to_next_cell": 0
   },
   "outputs": [
    {
     "name": "stdout",
     "output_type": "stream",
     "text": [
      "<class 'pandas.core.frame.DataFrame'>\n",
      "RangeIndex: 41088 entries, 0 to 41087\n",
      "Data columns (total 9 columns):\n",
      " #   Column         Non-Null Count  Dtype         \n",
      "---  ------         --------------  -----         \n",
      " 0   Store          41088 non-null  int64         \n",
      " 1   DayOfWeek      41088 non-null  int64         \n",
      " 2   Date           41088 non-null  datetime64[ns]\n",
      " 3   Sales          0 non-null      float64       \n",
      " 4   Customers      0 non-null      float64       \n",
      " 5   Open           41077 non-null  float64       \n",
      " 6   Promo          41088 non-null  int64         \n",
      " 7   StateHoliday   41088 non-null  object        \n",
      " 8   SchoolHoliday  41088 non-null  int64         \n",
      "dtypes: datetime64[ns](1), float64(3), int64(4), object(1)\n",
      "memory usage: 2.8+ MB\n"
     ]
    }
   ],
   "source": [
    "test.info()"
   ]
  },
  {
   "cell_type": "code",
   "execution_count": 36,
   "metadata": {},
   "outputs": [
    {
     "data": {
      "text/plain": [
       "count                   41088\n",
       "unique                     48\n",
       "top       2015-09-15 00:00:00\n",
       "freq                      856\n",
       "first     2015-01-08 00:00:00\n",
       "last      2015-12-09 00:00:00\n",
       "Name: Date, dtype: object"
      ]
     },
     "execution_count": 36,
     "metadata": {},
     "output_type": "execute_result"
    }
   ],
   "source": [
    "test.Date.describe()"
   ]
  },
  {
   "cell_type": "code",
   "execution_count": 37,
   "metadata": {},
   "outputs": [
    {
     "data": {
      "text/plain": [
       "Timestamp('2015-09-17 00:00:00')"
      ]
     },
     "execution_count": 37,
     "metadata": {},
     "output_type": "execute_result"
    }
   ],
   "source": [
    "test.Date[0]"
   ]
  },
  {
   "cell_type": "code",
   "execution_count": 38,
   "metadata": {},
   "outputs": [
    {
     "data": {
      "text/plain": [
       "48"
      ]
     },
     "execution_count": 38,
     "metadata": {},
     "output_type": "execute_result"
    }
   ],
   "source": [
    "len(test.Date.unique())"
   ]
  },
  {
   "cell_type": "code",
   "execution_count": 39,
   "metadata": {
    "lines_to_next_cell": 0
   },
   "outputs": [
    {
     "data": {
      "text/html": [
       "<div>\n",
       "<style scoped>\n",
       "    .dataframe tbody tr th:only-of-type {\n",
       "        vertical-align: middle;\n",
       "    }\n",
       "\n",
       "    .dataframe tbody tr th {\n",
       "        vertical-align: top;\n",
       "    }\n",
       "\n",
       "    .dataframe thead th {\n",
       "        text-align: right;\n",
       "    }\n",
       "</style>\n",
       "<table border=\"1\" class=\"dataframe\">\n",
       "  <thead>\n",
       "    <tr style=\"text-align: right;\">\n",
       "      <th></th>\n",
       "      <th>Store</th>\n",
       "      <th>DayOfWeek</th>\n",
       "      <th>Date</th>\n",
       "      <th>Sales</th>\n",
       "      <th>Customers</th>\n",
       "      <th>Open</th>\n",
       "      <th>Promo</th>\n",
       "      <th>StateHoliday</th>\n",
       "      <th>SchoolHoliday</th>\n",
       "    </tr>\n",
       "  </thead>\n",
       "  <tbody>\n",
       "    <tr>\n",
       "      <th>0</th>\n",
       "      <td>1</td>\n",
       "      <td>4</td>\n",
       "      <td>2015-09-17</td>\n",
       "      <td>NaN</td>\n",
       "      <td>NaN</td>\n",
       "      <td>1.0</td>\n",
       "      <td>1</td>\n",
       "      <td>0</td>\n",
       "      <td>0</td>\n",
       "    </tr>\n",
       "    <tr>\n",
       "      <th>1</th>\n",
       "      <td>3</td>\n",
       "      <td>4</td>\n",
       "      <td>2015-09-17</td>\n",
       "      <td>NaN</td>\n",
       "      <td>NaN</td>\n",
       "      <td>1.0</td>\n",
       "      <td>1</td>\n",
       "      <td>0</td>\n",
       "      <td>0</td>\n",
       "    </tr>\n",
       "    <tr>\n",
       "      <th>2</th>\n",
       "      <td>7</td>\n",
       "      <td>4</td>\n",
       "      <td>2015-09-17</td>\n",
       "      <td>NaN</td>\n",
       "      <td>NaN</td>\n",
       "      <td>1.0</td>\n",
       "      <td>1</td>\n",
       "      <td>0</td>\n",
       "      <td>0</td>\n",
       "    </tr>\n",
       "    <tr>\n",
       "      <th>3</th>\n",
       "      <td>8</td>\n",
       "      <td>4</td>\n",
       "      <td>2015-09-17</td>\n",
       "      <td>NaN</td>\n",
       "      <td>NaN</td>\n",
       "      <td>1.0</td>\n",
       "      <td>1</td>\n",
       "      <td>0</td>\n",
       "      <td>0</td>\n",
       "    </tr>\n",
       "    <tr>\n",
       "      <th>4</th>\n",
       "      <td>9</td>\n",
       "      <td>4</td>\n",
       "      <td>2015-09-17</td>\n",
       "      <td>NaN</td>\n",
       "      <td>NaN</td>\n",
       "      <td>1.0</td>\n",
       "      <td>1</td>\n",
       "      <td>0</td>\n",
       "      <td>0</td>\n",
       "    </tr>\n",
       "    <tr>\n",
       "      <th>...</th>\n",
       "      <td>...</td>\n",
       "      <td>...</td>\n",
       "      <td>...</td>\n",
       "      <td>...</td>\n",
       "      <td>...</td>\n",
       "      <td>...</td>\n",
       "      <td>...</td>\n",
       "      <td>...</td>\n",
       "      <td>...</td>\n",
       "    </tr>\n",
       "    <tr>\n",
       "      <th>41083</th>\n",
       "      <td>1111</td>\n",
       "      <td>6</td>\n",
       "      <td>2015-01-08</td>\n",
       "      <td>NaN</td>\n",
       "      <td>NaN</td>\n",
       "      <td>1.0</td>\n",
       "      <td>0</td>\n",
       "      <td>0</td>\n",
       "      <td>0</td>\n",
       "    </tr>\n",
       "    <tr>\n",
       "      <th>41084</th>\n",
       "      <td>1112</td>\n",
       "      <td>6</td>\n",
       "      <td>2015-01-08</td>\n",
       "      <td>NaN</td>\n",
       "      <td>NaN</td>\n",
       "      <td>1.0</td>\n",
       "      <td>0</td>\n",
       "      <td>0</td>\n",
       "      <td>0</td>\n",
       "    </tr>\n",
       "    <tr>\n",
       "      <th>41085</th>\n",
       "      <td>1113</td>\n",
       "      <td>6</td>\n",
       "      <td>2015-01-08</td>\n",
       "      <td>NaN</td>\n",
       "      <td>NaN</td>\n",
       "      <td>1.0</td>\n",
       "      <td>0</td>\n",
       "      <td>0</td>\n",
       "      <td>0</td>\n",
       "    </tr>\n",
       "    <tr>\n",
       "      <th>41086</th>\n",
       "      <td>1114</td>\n",
       "      <td>6</td>\n",
       "      <td>2015-01-08</td>\n",
       "      <td>NaN</td>\n",
       "      <td>NaN</td>\n",
       "      <td>1.0</td>\n",
       "      <td>0</td>\n",
       "      <td>0</td>\n",
       "      <td>0</td>\n",
       "    </tr>\n",
       "    <tr>\n",
       "      <th>41087</th>\n",
       "      <td>1115</td>\n",
       "      <td>6</td>\n",
       "      <td>2015-01-08</td>\n",
       "      <td>NaN</td>\n",
       "      <td>NaN</td>\n",
       "      <td>1.0</td>\n",
       "      <td>0</td>\n",
       "      <td>0</td>\n",
       "      <td>1</td>\n",
       "    </tr>\n",
       "  </tbody>\n",
       "</table>\n",
       "<p>41088 rows × 9 columns</p>\n",
       "</div>"
      ],
      "text/plain": [
       "       Store  DayOfWeek       Date  Sales  Customers  Open  Promo  \\\n",
       "0          1          4 2015-09-17    NaN        NaN   1.0      1   \n",
       "1          3          4 2015-09-17    NaN        NaN   1.0      1   \n",
       "2          7          4 2015-09-17    NaN        NaN   1.0      1   \n",
       "3          8          4 2015-09-17    NaN        NaN   1.0      1   \n",
       "4          9          4 2015-09-17    NaN        NaN   1.0      1   \n",
       "...      ...        ...        ...    ...        ...   ...    ...   \n",
       "41083   1111          6 2015-01-08    NaN        NaN   1.0      0   \n",
       "41084   1112          6 2015-01-08    NaN        NaN   1.0      0   \n",
       "41085   1113          6 2015-01-08    NaN        NaN   1.0      0   \n",
       "41086   1114          6 2015-01-08    NaN        NaN   1.0      0   \n",
       "41087   1115          6 2015-01-08    NaN        NaN   1.0      0   \n",
       "\n",
       "      StateHoliday  SchoolHoliday  \n",
       "0                0              0  \n",
       "1                0              0  \n",
       "2                0              0  \n",
       "3                0              0  \n",
       "4                0              0  \n",
       "...            ...            ...  \n",
       "41083            0              0  \n",
       "41084            0              0  \n",
       "41085            0              0  \n",
       "41086            0              0  \n",
       "41087            0              1  \n",
       "\n",
       "[41088 rows x 9 columns]"
      ]
     },
     "execution_count": 39,
     "metadata": {},
     "output_type": "execute_result"
    }
   ],
   "source": [
    "test"
   ]
  },
  {
   "cell_type": "markdown",
   "metadata": {},
   "source": [
    "\n",
    "\n"
   ]
  },
  {
   "cell_type": "markdown",
   "metadata": {},
   "source": [
    "## Integrate Data Sets as Appropriate"
   ]
  },
  {
   "cell_type": "code",
   "execution_count": 40,
   "metadata": {},
   "outputs": [],
   "source": [
    "# merge on store ID\n",
    "combine = pd.merge(store, properDates, on='Store')"
   ]
  },
  {
   "cell_type": "code",
   "execution_count": 41,
   "metadata": {},
   "outputs": [
    {
     "name": "stdout",
     "output_type": "stream",
     "text": [
      "<class 'pandas.core.frame.DataFrame'>\n",
      "Int64Index: 978184 entries, 0 to 978183\n",
      "Data columns (total 18 columns):\n",
      " #   Column                     Non-Null Count   Dtype         \n",
      "---  ------                     --------------   -----         \n",
      " 0   Store                      978184 non-null  int64         \n",
      " 1   StoreType                  978184 non-null  object        \n",
      " 2   Assortment                 978184 non-null  object        \n",
      " 3   CompetitionDistance        975647 non-null  float64       \n",
      " 4   CompetitionOpenSinceMonth  667226 non-null  float64       \n",
      " 5   CompetitionOpenSinceYear   667226 non-null  float64       \n",
      " 6   Promo2                     978184 non-null  int64         \n",
      " 7   Promo2SinceWeek            489193 non-null  float64       \n",
      " 8   Promo2SinceYear            489193 non-null  float64       \n",
      " 9   PromoInterval              489193 non-null  object        \n",
      " 10  DayOfWeek                  978184 non-null  int64         \n",
      " 11  Date                       978184 non-null  datetime64[ns]\n",
      " 12  Sales                      978184 non-null  int64         \n",
      " 13  Customers                  978184 non-null  int64         \n",
      " 14  Open                       978184 non-null  int64         \n",
      " 15  Promo                      978184 non-null  int64         \n",
      " 16  StateHoliday               978184 non-null  object        \n",
      " 17  SchoolHoliday              978184 non-null  int64         \n",
      "dtypes: datetime64[ns](1), float64(5), int64(8), object(4)\n",
      "memory usage: 141.8+ MB\n"
     ]
    }
   ],
   "source": [
    "combine.info()"
   ]
  },
  {
   "cell_type": "code",
   "execution_count": 42,
   "metadata": {},
   "outputs": [],
   "source": [
    "combine.dummyDay = 1 # assume that competition was open from the beginning of the month they opened\n",
    "\n",
    "competitionOpenSinceDate = pd.DataFrame({'year': combine.CompetitionOpenSinceYear,\n",
    "                                                'month': combine.CompetitionOpenSinceMonth,\n",
    "                                                'day': combine.dummyDay})\n",
    "\n",
    "combine['CompetitionOpenSinceDate'] = pd.to_datetime(competitionOpenSinceDate)\n",
    "\n",
    "combine['Competition'] = np.where(combine['CompetitionOpenSinceDate'] < combine['Date'], 1, 0)\n",
    "# note that this gives nan values a '1' -- ie. we assume that where the date is unknown,\n",
    "# that competition has been open since before 2013.\n",
    "nearby = 10000\n",
    "combine['NearbyCompetition'] = np.where(((combine['Competition']==1)\\\n",
    "                                         & (combine['CompetitionDistance']<nearby)), 1, 0)"
   ]
  },
  {
   "cell_type": "markdown",
   "metadata": {},
   "source": [
    "## Pre-Process Data for Further Analytics"
   ]
  },
  {
   "cell_type": "code",
   "execution_count": 43,
   "metadata": {},
   "outputs": [],
   "source": [
    "# it seems easier to get a week number from a date than vice versa\n",
    "combine['WeekNumber'] = combine['Date'].dt.week\n",
    "combine['Month'] = combine['Date'].dt.month\n",
    "combine['Year'] = combine['Date'].dt.year"
   ]
  },
  {
   "cell_type": "code",
   "execution_count": 44,
   "metadata": {},
   "outputs": [],
   "source": [
    "combine['Competition'] = np.where((combine['Year'] < combine['CompetitionOpenSinceYear'])\n",
    "                                  | ((combine['Year'] == combine['CompetitionOpenSinceYear'])\n",
    "                                        & (combine['Month'] <= combine['CompetitionOpenSinceMonth'])), 0, 1)"
   ]
  },
  {
   "cell_type": "code",
   "execution_count": 46,
   "metadata": {},
   "outputs": [],
   "source": [
    "nearby = 10000\n",
    "combine['NearbyCompetition'] = np.where(((combine['Competition']==1)\\\n",
    "                                         & (combine['CompetitionDistance']<nearby)), 1, 0)"
   ]
  },
  {
   "cell_type": "code",
   "execution_count": 47,
   "metadata": {},
   "outputs": [],
   "source": [
    "combine['Promo2Precise'] = np.where((combine['Year'] > combine['Promo2SinceYear'])\n",
    "                                    | ((combine['Year'] == combine['Promo2SinceYear'])\n",
    "                                             & (combine['WeekNumber'] >= combine['Promo2SinceWeek'])), 1, 0)"
   ]
  },
  {
   "cell_type": "code",
   "execution_count": 48,
   "metadata": {},
   "outputs": [],
   "source": [
    "store_type = {}\n",
    "resampled = {}\n",
    "for x in (combine.StoreType.unique()):\n",
    "    store_type[x] = combine.loc[combine.StoreType == x]\n",
    "    resampled[x] = store_type[x].resample(rule='1M', on='Date').mean()"
   ]
  },
  {
   "cell_type": "code",
   "execution_count": 48,
   "metadata": {},
   "outputs": [],
   "source": []
  },
  {
   "cell_type": "code",
   "execution_count": 106,
   "metadata": {},
   "outputs": [
    {
     "data": {
      "image/png": "[encoded data removed]",
      "text/plain": [
       "<Figure size 720x720 with 1 Axes>"
      ]
     },
     "metadata": {
      "needs_background": "light"
     },
     "output_type": "display_data"
    }
   ],
   "source": [
    "fig, ax = plt.subplots(figsize=(10,10))\n",
    "for x in combine.StoreType.unique():\n",
    "    ax.plot(resampled[x]['Sales'], label=x)\n",
    "    ax.legend()"
   ]
  },
  {
   "cell_type": "code",
   "execution_count": 50,
   "metadata": {},
   "outputs": [],
   "source": [
    "decomposition = {}\n",
    "seasonal = {}\n",
    "trend = {}"
   ]
  },
  {
   "cell_type": "code",
   "execution_count": 51,
   "metadata": {},
   "outputs": [],
   "source": [
    "import statsmodels.api as sm\n",
    "\n",
    "decomposition = {}\n",
    "seasonal = {}\n",
    "trend = {}\n",
    "\n",
    "for x in combine.StoreType.unique():\n",
    "    decomposition[x] = sm.tsa.seasonal_decompose(resampled[x]['Sales'], model='additive')\n",
    "    seasonal[x] = decomposition[x].seasonal\n",
    "    trend[x] = decomposition[x].trend\n",
    "    "
   ]
  },
  {
   "cell_type": "code",
   "execution_count": 52,
   "metadata": {},
   "outputs": [
    {
     "data": {
      "image/png": "[encoded data removed]",
      "text/plain": [
       "<Figure size 432x288 with 4 Axes>"
      ]
     },
     "metadata": {
      "needs_background": "light"
     },
     "output_type": "display_data"
    },
    {
     "data": {
      "image/png": "[encoded data removed]",
      "text/plain": [
       "<Figure size 432x288 with 4 Axes>"
      ]
     },
     "metadata": {
      "needs_background": "light"
     },
     "output_type": "display_data"
    },
    {
     "data": {
      "image/png": "[encoded data removed]",
      "text/plain": [
       "<Figure size 432x288 with 4 Axes>"
      ]
     },
     "metadata": {
      "needs_background": "light"
     },
     "output_type": "display_data"
    },
    {
     "data": {
      "image/png": "[encoded data removed]",
      "text/plain": [
       "<Figure size 432x288 with 4 Axes>"
      ]
     },
     "metadata": {
      "needs_background": "light"
     },
     "output_type": "display_data"
    }
   ],
   "source": [
    "for i, x in enumerate(combine.StoreType.unique()):\n",
    "    decomposition[x].plot()"
   ]
  },
  {
   "cell_type": "code",
   "execution_count": 53,
   "metadata": {},
   "outputs": [],
   "source": [
    "combine['Seasonal'] = 0"
   ]
  },
  {
   "cell_type": "code",
   "execution_count": 54,
   "metadata": {},
   "outputs": [],
   "source": [
    "for x in combine.StoreType.unique():\n",
    "    combine['Seasonal'] = np.where(combine.StoreType == x, seasonal[x][combine.Date.dt.month], combine.Seasonal)"
   ]
  },
  {
   "cell_type": "code",
   "execution_count": 55,
   "metadata": {},
   "outputs": [
    {
     "data": {
      "text/plain": [
       "0         -33.351105\n",
       "1         -33.351105\n",
       "2         -33.351105\n",
       "3         -33.351105\n",
       "4         -33.351105\n",
       "             ...    \n",
       "978179    107.150629\n",
       "978180     83.317811\n",
       "978181    430.958175\n",
       "978182    281.703278\n",
       "978183     -9.043188\n",
       "Name: Seasonal, Length: 978184, dtype: float64"
      ]
     },
     "execution_count": 55,
     "metadata": {},
     "output_type": "execute_result"
    }
   ],
   "source": [
    "combine.Seasonal"
   ]
  },
  {
   "cell_type": "code",
   "execution_count": 56,
   "metadata": {},
   "outputs": [],
   "source": [
    "from scipy.interpolate import make_interp_spline, BSpline"
   ]
  },
  {
   "cell_type": "code",
   "execution_count": 57,
   "metadata": {},
   "outputs": [],
   "source": [
    "xnew = np.linspace(1, 942, 942)"
   ]
  },
  {
   "cell_type": "code",
   "execution_count": 58,
   "metadata": {},
   "outputs": [],
   "source": [
    "daynumbers = np.array(seasonal['a'].reset_index().Date.dt.dayofyear) + np.array(seasonal['a'].reset_index().Date.dt.year - 2013)*365 - 15 # we subtract 15 to put the day in the middle of the month"
   ]
  },
  {
   "cell_type": "code",
   "execution_count": 59,
   "metadata": {},
   "outputs": [],
   "source": [
    "spline = {}\n",
    "smooth_seasonal = {}\n",
    "for x in ['a','b','c','d']:\n",
    "    spline[x] = make_interp_spline(daynumbers, np.array(list(seasonal[x])), k=3)\n",
    "    smooth_seasonal[x] = spline[x](xnew)"
   ]
  },
  {
   "cell_type": "code",
   "execution_count": 60,
   "metadata": {},
   "outputs": [],
   "source": [
    "combine['SmoothSeasonal'] = 0\n",
    "for x in combine.StoreType.unique():\n",
    "    combine['SmoothSeasonal'] = np.where(combine.StoreType == x, smooth_seasonal[x][combine.Date.dt.dayofyear -1], combine.SmoothSeasonal)"
   ]
  },
  {
   "cell_type": "code",
   "execution_count": 102,
   "metadata": {},
   "outputs": [
    {
     "data": {
      "image/png": "[encoded data removed]",
      "text/plain": [
       "<Figure size 720x720 with 2 Axes>"
      ]
     },
     "metadata": {
      "needs_background": "light"
     },
     "output_type": "display_data"
    }
   ],
   "source": [
    "fig, ax = plt.subplots(2,1,figsize=(10,10))\n",
    "\n",
    "for x in ['a','b','c','d']:\n",
    "    store_type[x] = combine.loc[combine.StoreType==x].sort_values('Date')\n",
    "    ax[0].plot(store_type[x].Date, store_type[x].Seasonal, label=x)\n",
    "    ax[1].plot(store_type[x].Date, store_type[x].SmoothSeasonal, label=x)\n",
    "    ax[0].legend()\n",
    "    ax[1].legend()"
   ]
  },
  {
   "cell_type": "code",
   "execution_count": 62,
   "metadata": {},
   "outputs": [],
   "source": [
    "from statsmodels.formula.api import ols\n",
    "\n",
    "validTrend = {}\n",
    "linear_trend = {}\n",
    "for x in combine.StoreType.unique():\n",
    "    validTrend[x] = decomposition[x].trend.loc[decomposition[x].trend.isnull()==False].reset_index()\n",
    "    validTrend[x]['day'] = validTrend[x].Date.dt.dayofyear + (validTrend[x].Date.dt.year - 2013)*365\n",
    "    linear_trend[x] = ols(formula='trend ~ day', data = validTrend[x]).fit()"
   ]
  },
  {
   "cell_type": "code",
   "execution_count": 63,
   "metadata": {},
   "outputs": [],
   "source": [
    "combine['DayNumber'] = combine.Date.dt.dayofyear + (combine.Date.dt.year - 2013)*365"
   ]
  },
  {
   "cell_type": "code",
   "execution_count": 64,
   "metadata": {},
   "outputs": [],
   "source": [
    "combine['Trend'] = 0\n",
    "\n",
    "for x in combine.StoreType.unique():\n",
    "    combine['Trend'] = np.where(combine.StoreType == x, combine.DayNumber * linear_trend[x].params['day'] + linear_trend[x].params['Intercept'], combine.Trend)"
   ]
  },
  {
   "cell_type": "code",
   "execution_count": 66,
   "metadata": {},
   "outputs": [
    {
     "data": {
      "image/png": "[encoded data removed]",
      "text/plain": [
       "<Figure size 432x288 with 1 Axes>"
      ]
     },
     "metadata": {
      "needs_background": "light"
     },
     "output_type": "display_data"
    }
   ],
   "source": [
    "fig, ax = plt.subplots()\n",
    "for x in ['a','b','c','d']:\n",
    "    ax.plot(decomposition[x].trend, label=x)\n",
    "    ax.legend()"
   ]
  },
  {
   "cell_type": "code",
   "execution_count": 65,
   "metadata": {},
   "outputs": [
    {
     "data": {
      "image/png": "[encoded data removed]",
      "text/plain": [
       "<Figure size 432x288 with 1 Axes>"
      ]
     },
     "metadata": {
      "needs_background": "light"
     },
     "output_type": "display_data"
    }
   ],
   "source": [
    "fig, ax = plt.subplots()\n",
    "stores = {}\n",
    "for x in combine.StoreType.unique():\n",
    "    stores[x] = combine.loc[combine.StoreType == x]\n",
    "    ax.plot(stores[x].Date, stores[x].Trend, label=x)\n",
    "    ax.legend()"
   ]
  },
  {
   "cell_type": "code",
   "execution_count": 67,
   "metadata": {},
   "outputs": [],
   "source": [
    "combine['PublicHoliday'] = np.where(combine.StateHoliday == 'a', 1, 0)\n",
    "combine['EasterHoliday'] = np.where(combine.StateHoliday == 'b', 1, 0)\n",
    "combine['ChristmasHoliday'] = np.where(combine.StateHoliday == 'c', 1, 0)"
   ]
  },
  {
   "cell_type": "code",
   "execution_count": 68,
   "metadata": {},
   "outputs": [],
   "source": [
    "for x in combine.StoreType.unique():\n",
    "    combine[f'Store{x.capitalize()}'] = np.where(combine.StoreType == x, 1, 0)"
   ]
  },
  {
   "cell_type": "code",
   "execution_count": 69,
   "metadata": {},
   "outputs": [],
   "source": [
    "for x in combine.Assortment.unique():\n",
    "    combine[f'Assortment{x.capitalize()}'] = np.where(combine.Assortment == x, 1, 0)"
   ]
  },
  {
   "cell_type": "code",
   "execution_count": 70,
   "metadata": {},
   "outputs": [],
   "source": [
    "unnecessary = ['CompetitionDistance','CompetitionOpenSinceMonth','CompetitionOpenSinceYear',\\\n",
    "               'Promo2','Promo2SinceWeek','Promo2SinceYear','PromoInterval',\\\n",
    "              'DayNumber','WeekNumber','Month','Year','CompetitionOpenSinceDate','Competition',\\\n",
    "               'StateHoliday', 'Open', 'Customers', 'Date', 'StoreType', 'Assortment','Store','StoreA','StoreC','StoreD']"
   ]
  },
  {
   "cell_type": "code",
   "execution_count": 71,
   "metadata": {},
   "outputs": [],
   "source": [
    "opened = combine.loc[combine.Open==1]"
   ]
  },
  {
   "cell_type": "code",
   "execution_count": 72,
   "metadata": {},
   "outputs": [],
   "source": [
    "processed = opened.drop(columns=unnecessary)"
   ]
  },
  {
   "cell_type": "code",
   "execution_count": 73,
   "metadata": {},
   "outputs": [],
   "source": [
    "from sklearn.preprocessing import scale"
   ]
  },
  {
   "cell_type": "code",
   "execution_count": 74,
   "metadata": {},
   "outputs": [],
   "source": [
    "scaled_values = scale(processed)\n",
    "fully_processed = pd.DataFrame(scaled_values,\n",
    "                              columns=processed.columns,\n",
    "                              index=processed.index)"
   ]
  },
  {
   "cell_type": "code",
   "execution_count": 93,
   "metadata": {},
   "outputs": [],
   "source": [
    "fully_processed.to_csv('fully_processed.csv')"
   ]
  },
  {
   "cell_type": "markdown",
   "metadata": {},
   "source": [
    "## Identify Key Variables Affecting Sales"
   ]
  },
  {
   "cell_type": "code",
   "execution_count": 75,
   "metadata": {},
   "outputs": [],
   "source": [
    "from mlxtend.feature_selection import ExhaustiveFeatureSelector as EFS\n",
    "from sklearn.linear_model import LinearRegression\n",
    "import statsmodels.formula.api as sm"
   ]
  },
  {
   "cell_type": "code",
   "execution_count": 76,
   "metadata": {},
   "outputs": [],
   "source": [
    "lr = LinearRegression()"
   ]
  },
  {
   "cell_type": "code",
   "execution_count": 77,
   "metadata": {},
   "outputs": [],
   "source": [
    "efs = {}\n",
    "best = {}"
   ]
  },
  {
   "cell_type": "code",
   "execution_count": 78,
   "metadata": {},
   "outputs": [],
   "source": [
    "max_features = 14"
   ]
  },
  {
   "cell_type": "code",
   "execution_count": 79,
   "metadata": {},
   "outputs": [
    {
     "name": "stderr",
     "output_type": "stream",
     "text": [
      "Features: 3000/5005IOPub message rate exceeded.\n",
      "The notebook server will temporarily stop sending output\n",
      "to the client in order to avoid crashing it.\n",
      "To change this limit, set the config variable\n",
      "`--NotebookApp.iopub_msg_rate_limit`.\n",
      "\n",
      "Current values:\n",
      "NotebookApp.iopub_msg_rate_limit=1000.0 (msgs/sec)\n",
      "NotebookApp.rate_limit_window=3.0 (secs)\n",
      "\n",
      "Features: 3000/6435IOPub message rate exceeded.\n",
      "The notebook server will temporarily stop sending output\n",
      "to the client in order to avoid crashing it.\n",
      "To change this limit, set the config variable\n",
      "`--NotebookApp.iopub_msg_rate_limit`.\n",
      "\n",
      "Current values:\n",
      "NotebookApp.iopub_msg_rate_limit=1000.0 (msgs/sec)\n",
      "NotebookApp.rate_limit_window=3.0 (secs)\n",
      "\n",
      "Features: 3000/6435IOPub message rate exceeded.\n",
      "The notebook server will temporarily stop sending output\n",
      "to the client in order to avoid crashing it.\n",
      "To change this limit, set the config variable\n",
      "`--NotebookApp.iopub_msg_rate_limit`.\n",
      "\n",
      "Current values:\n",
      "NotebookApp.iopub_msg_rate_limit=1000.0 (msgs/sec)\n",
      "NotebookApp.rate_limit_window=3.0 (secs)\n",
      "\n",
      "Features: 3000/5005IOPub message rate exceeded.\n",
      "The notebook server will temporarily stop sending output\n",
      "to the client in order to avoid crashing it.\n",
      "To change this limit, set the config variable\n",
      "`--NotebookApp.iopub_msg_rate_limit`.\n",
      "\n",
      "Current values:\n",
      "NotebookApp.iopub_msg_rate_limit=1000.0 (msgs/sec)\n",
      "NotebookApp.rate_limit_window=3.0 (secs)\n",
      "\n",
      "Features: 15/150565"
     ]
    }
   ],
   "source": [
    "for i in range(1, max_features+1):\n",
    "    efs[i] = EFS(lr,\n",
    "          min_features=i,\n",
    "          max_features=i,\n",
    "          scoring='neg_mean_squared_error',\n",
    "          print_progress=True,\n",
    "          cv=0\n",
    "          )\n",
    "    \n",
    "    efs[i].fit(fully_processed.drop(columns=['Sales']), fully_processed['Sales'], custom_feature_names=fully_processed.drop(columns=['Sales']).columns)\n",
    "    best[i] = efs[i].best_feature_names_\n"
   ]
  },
  {
   "cell_type": "code",
   "execution_count": 80,
   "metadata": {},
   "outputs": [
    {
     "data": {
      "text/plain": [
       "{1: ('Promo',),\n",
       " 2: ('Promo', 'Trend'),\n",
       " 3: ('Promo', 'Trend', 'AssortmentC'),\n",
       " 4: ('Promo', 'Promo2Precise', 'Trend', 'AssortmentC'),\n",
       " 5: ('DayOfWeek', 'Promo', 'Promo2Precise', 'Trend', 'AssortmentC'),\n",
       " 6: ('DayOfWeek',\n",
       "  'Promo',\n",
       "  'Promo2Precise',\n",
       "  'Trend',\n",
       "  'AssortmentA',\n",
       "  'AssortmentB'),\n",
       " 7: ('DayOfWeek',\n",
       "  'Promo',\n",
       "  'Promo2Precise',\n",
       "  'SmoothSeasonal',\n",
       "  'Trend',\n",
       "  'AssortmentA',\n",
       "  'AssortmentB'),\n",
       " 8: ('DayOfWeek',\n",
       "  'Promo',\n",
       "  'SchoolHoliday',\n",
       "  'Promo2Precise',\n",
       "  'SmoothSeasonal',\n",
       "  'Trend',\n",
       "  'AssortmentA',\n",
       "  'AssortmentC'),\n",
       " 9: ('DayOfWeek',\n",
       "  'Promo',\n",
       "  'SchoolHoliday',\n",
       "  'Promo2Precise',\n",
       "  'Seasonal',\n",
       "  'SmoothSeasonal',\n",
       "  'Trend',\n",
       "  'AssortmentA',\n",
       "  'AssortmentC'),\n",
       " 10: ('DayOfWeek',\n",
       "  'Promo',\n",
       "  'SchoolHoliday',\n",
       "  'Promo2Precise',\n",
       "  'Seasonal',\n",
       "  'SmoothSeasonal',\n",
       "  'Trend',\n",
       "  'StoreB',\n",
       "  'AssortmentA',\n",
       "  'AssortmentC'),\n",
       " 11: ('DayOfWeek',\n",
       "  'Promo',\n",
       "  'SchoolHoliday',\n",
       "  'NearbyCompetition',\n",
       "  'Promo2Precise',\n",
       "  'Seasonal',\n",
       "  'SmoothSeasonal',\n",
       "  'Trend',\n",
       "  'StoreB',\n",
       "  'AssortmentA',\n",
       "  'AssortmentC'),\n",
       " 12: ('DayOfWeek',\n",
       "  'Promo',\n",
       "  'SchoolHoliday',\n",
       "  'NearbyCompetition',\n",
       "  'Promo2Precise',\n",
       "  'Seasonal',\n",
       "  'SmoothSeasonal',\n",
       "  'Trend',\n",
       "  'EasterHoliday',\n",
       "  'StoreB',\n",
       "  'AssortmentA',\n",
       "  'AssortmentB'),\n",
       " 13: ('DayOfWeek',\n",
       "  'Promo',\n",
       "  'SchoolHoliday',\n",
       "  'NearbyCompetition',\n",
       "  'Promo2Precise',\n",
       "  'Seasonal',\n",
       "  'SmoothSeasonal',\n",
       "  'Trend',\n",
       "  'PublicHoliday',\n",
       "  'EasterHoliday',\n",
       "  'StoreB',\n",
       "  'AssortmentA',\n",
       "  'AssortmentC'),\n",
       " 14: ('DayOfWeek',\n",
       "  'Promo',\n",
       "  'SchoolHoliday',\n",
       "  'NearbyCompetition',\n",
       "  'Promo2Precise',\n",
       "  'Seasonal',\n",
       "  'SmoothSeasonal',\n",
       "  'Trend',\n",
       "  'PublicHoliday',\n",
       "  'EasterHoliday',\n",
       "  'ChristmasHoliday',\n",
       "  'StoreB',\n",
       "  'AssortmentA',\n",
       "  'AssortmentC')}"
      ]
     },
     "execution_count": 80,
     "metadata": {},
     "output_type": "execute_result"
    }
   ],
   "source": [
    "best"
   ]
  },
  {
   "cell_type": "markdown",
   "metadata": {},
   "source": [
    "## Build a Forecasting Model"
   ]
  },
  {
   "cell_type": "code",
   "execution_count": 81,
   "metadata": {},
   "outputs": [],
   "source": [
    "formula = {}\n",
    "\n",
    "for j in range(1, max_features+1):\n",
    "    sum = ''\n",
    "    for k, predictor in enumerate(best[j]):\n",
    "        if k == 0:\n",
    "            sum = f'Q(\"{predictor}\")'\n",
    "        else:\n",
    "            sum = f'{sum} + Q(\"{predictor}\")'\n",
    "\n",
    "    formula[j] = f'Q(\"Sales\") ~ {sum} '"
   ]
  },
  {
   "cell_type": "code",
   "execution_count": 82,
   "metadata": {},
   "outputs": [],
   "source": [
    "lm = {}\n",
    "lm_df = {}\n",
    "coefs = {}\n",
    "r_squared = {}\n",
    "r2df = {}"
   ]
  },
  {
   "cell_type": "code",
   "execution_count": 211,
   "metadata": {},
   "outputs": [],
   "source": [
    "for j in range(1, max_features+1):\n",
    "\n",
    "    lm[j] = sm.ols(formula[j], fully_processed)\\\n",
    "       .fit()\n",
    "    coefs[j] = lm[j].params\n",
    "    r_squared[j] = lm[j].rsquared\n",
    "lm_df = pd.DataFrame(coefs)"
   ]
  },
  {
   "cell_type": "code",
   "execution_count": 84,
   "metadata": {},
   "outputs": [],
   "source": [
    "for j in range(1, max_features+1):\n",
    "    coefs[j] = lm[j].params\n",
    "lm_df = pd.DataFrame(coefs).transpose()\n",
    "lm_df['rSquared'] = pd.Series(r_squared, index=list(range(1,max_features+1)), name='rSquared')\n",
    "lm_df.index.name = \"No. of Var.s\""
   ]
  },
  {
   "cell_type": "code",
   "execution_count": 91,
   "metadata": {},
   "outputs": [
    {
     "data": {
      "text/html": [
       "<div>\n",
       "<style scoped>\n",
       "    .dataframe tbody tr th:only-of-type {\n",
       "        vertical-align: middle;\n",
       "    }\n",
       "\n",
       "    .dataframe tbody tr th {\n",
       "        vertical-align: top;\n",
       "    }\n",
       "\n",
       "    .dataframe thead th {\n",
       "        text-align: right;\n",
       "    }\n",
       "</style>\n",
       "<table border=\"1\" class=\"dataframe\">\n",
       "  <thead>\n",
       "    <tr style=\"text-align: right;\">\n",
       "      <th>No. of Var.s</th>\n",
       "      <th>1</th>\n",
       "      <th>2</th>\n",
       "      <th>3</th>\n",
       "      <th>4</th>\n",
       "      <th>5</th>\n",
       "      <th>6</th>\n",
       "      <th>7</th>\n",
       "      <th>8</th>\n",
       "      <th>9</th>\n",
       "      <th>10</th>\n",
       "      <th>11</th>\n",
       "      <th>12</th>\n",
       "      <th>13</th>\n",
       "      <th>14</th>\n",
       "    </tr>\n",
       "  </thead>\n",
       "  <tbody>\n",
       "    <tr>\n",
       "      <th>Intercept</th>\n",
       "      <td>1.218677e-16</td>\n",
       "      <td>1.218677e-16</td>\n",
       "      <td>1.283729e-16</td>\n",
       "      <td>1.283729e-16</td>\n",
       "      <td>1.283729e-16</td>\n",
       "      <td>1.283729e-16</td>\n",
       "      <td>1.283729e-16</td>\n",
       "      <td>1.283729e-16</td>\n",
       "      <td>1.283729e-16</td>\n",
       "      <td>1.283729e-16</td>\n",
       "      <td>1.283729e-16</td>\n",
       "      <td>1.283729e-16</td>\n",
       "      <td>1.283729e-16</td>\n",
       "      <td>1.283729e-16</td>\n",
       "    </tr>\n",
       "    <tr>\n",
       "      <th>Q(\"AssortmentA\")</th>\n",
       "      <td>NaN</td>\n",
       "      <td>NaN</td>\n",
       "      <td>NaN</td>\n",
       "      <td>NaN</td>\n",
       "      <td>NaN</td>\n",
       "      <td>-1.272634e-01</td>\n",
       "      <td>-1.273146e-01</td>\n",
       "      <td>5.017852e-01</td>\n",
       "      <td>5.015618e-01</td>\n",
       "      <td>4.919277e-01</td>\n",
       "      <td>4.920954e-01</td>\n",
       "      <td>-1.279120e-01</td>\n",
       "      <td>4.921788e-01</td>\n",
       "      <td>4.921748e-01</td>\n",
       "    </tr>\n",
       "    <tr>\n",
       "      <th>Q(\"AssortmentB\")</th>\n",
       "      <td>NaN</td>\n",
       "      <td>NaN</td>\n",
       "      <td>NaN</td>\n",
       "      <td>NaN</td>\n",
       "      <td>NaN</td>\n",
       "      <td>-1.240617e-01</td>\n",
       "      <td>-1.236680e-01</td>\n",
       "      <td>NaN</td>\n",
       "      <td>NaN</td>\n",
       "      <td>NaN</td>\n",
       "      <td>NaN</td>\n",
       "      <td>-1.218745e-01</td>\n",
       "      <td>NaN</td>\n",
       "      <td>NaN</td>\n",
       "    </tr>\n",
       "    <tr>\n",
       "      <th>Q(\"AssortmentC\")</th>\n",
       "      <td>NaN</td>\n",
       "      <td>NaN</td>\n",
       "      <td>1.232977e-01</td>\n",
       "      <td>1.271916e-01</td>\n",
       "      <td>1.274434e-01</td>\n",
       "      <td>NaN</td>\n",
       "      <td>NaN</td>\n",
       "      <td>6.283515e-01</td>\n",
       "      <td>6.280999e-01</td>\n",
       "      <td>6.189711e-01</td>\n",
       "      <td>6.192481e-01</td>\n",
       "      <td>NaN</td>\n",
       "      <td>6.193247e-01</td>\n",
       "      <td>6.193198e-01</td>\n",
       "    </tr>\n",
       "    <tr>\n",
       "      <th>Q(\"ChristmasHoliday\")</th>\n",
       "      <td>NaN</td>\n",
       "      <td>NaN</td>\n",
       "      <td>NaN</td>\n",
       "      <td>NaN</td>\n",
       "      <td>NaN</td>\n",
       "      <td>NaN</td>\n",
       "      <td>NaN</td>\n",
       "      <td>NaN</td>\n",
       "      <td>NaN</td>\n",
       "      <td>NaN</td>\n",
       "      <td>NaN</td>\n",
       "      <td>NaN</td>\n",
       "      <td>NaN</td>\n",
       "      <td>4.212211e-04</td>\n",
       "    </tr>\n",
       "    <tr>\n",
       "      <th>Q(\"DayOfWeek\")</th>\n",
       "      <td>NaN</td>\n",
       "      <td>NaN</td>\n",
       "      <td>NaN</td>\n",
       "      <td>NaN</td>\n",
       "      <td>-8.627393e-02</td>\n",
       "      <td>-8.625783e-02</td>\n",
       "      <td>-8.856920e-02</td>\n",
       "      <td>-8.635369e-02</td>\n",
       "      <td>-8.657929e-02</td>\n",
       "      <td>-8.656539e-02</td>\n",
       "      <td>-8.655811e-02</td>\n",
       "      <td>-8.654464e-02</td>\n",
       "      <td>-8.654463e-02</td>\n",
       "      <td>-8.654489e-02</td>\n",
       "    </tr>\n",
       "    <tr>\n",
       "      <th>Q(\"EasterHoliday\")</th>\n",
       "      <td>NaN</td>\n",
       "      <td>NaN</td>\n",
       "      <td>NaN</td>\n",
       "      <td>NaN</td>\n",
       "      <td>NaN</td>\n",
       "      <td>NaN</td>\n",
       "      <td>NaN</td>\n",
       "      <td>NaN</td>\n",
       "      <td>NaN</td>\n",
       "      <td>NaN</td>\n",
       "      <td>NaN</td>\n",
       "      <td>1.464047e-03</td>\n",
       "      <td>1.467905e-03</td>\n",
       "      <td>1.470001e-03</td>\n",
       "    </tr>\n",
       "    <tr>\n",
       "      <th>Q(\"NearbyCompetition\")</th>\n",
       "      <td>NaN</td>\n",
       "      <td>NaN</td>\n",
       "      <td>NaN</td>\n",
       "      <td>NaN</td>\n",
       "      <td>NaN</td>\n",
       "      <td>NaN</td>\n",
       "      <td>NaN</td>\n",
       "      <td>NaN</td>\n",
       "      <td>NaN</td>\n",
       "      <td>NaN</td>\n",
       "      <td>2.318136e-03</td>\n",
       "      <td>2.326434e-03</td>\n",
       "      <td>2.332209e-03</td>\n",
       "      <td>2.332826e-03</td>\n",
       "    </tr>\n",
       "    <tr>\n",
       "      <th>Q(\"Promo\")</th>\n",
       "      <td>3.682148e-01</td>\n",
       "      <td>3.706862e-01</td>\n",
       "      <td>3.708410e-01</td>\n",
       "      <td>3.712905e-01</td>\n",
       "      <td>3.453111e-01</td>\n",
       "      <td>3.451185e-01</td>\n",
       "      <td>3.394950e-01</td>\n",
       "      <td>3.397817e-01</td>\n",
       "      <td>3.399144e-01</td>\n",
       "      <td>3.398468e-01</td>\n",
       "      <td>3.398439e-01</td>\n",
       "      <td>3.398525e-01</td>\n",
       "      <td>3.398475e-01</td>\n",
       "      <td>3.398510e-01</td>\n",
       "    </tr>\n",
       "    <tr>\n",
       "      <th>Q(\"Promo2Precise\")</th>\n",
       "      <td>NaN</td>\n",
       "      <td>NaN</td>\n",
       "      <td>NaN</td>\n",
       "      <td>-1.145862e-01</td>\n",
       "      <td>-1.145471e-01</td>\n",
       "      <td>-1.116964e-01</td>\n",
       "      <td>-1.122898e-01</td>\n",
       "      <td>-1.121913e-01</td>\n",
       "      <td>-1.121728e-01</td>\n",
       "      <td>-1.122796e-01</td>\n",
       "      <td>-1.125638e-01</td>\n",
       "      <td>-1.125612e-01</td>\n",
       "      <td>-1.125599e-01</td>\n",
       "      <td>-1.125601e-01</td>\n",
       "    </tr>\n",
       "    <tr>\n",
       "      <th>Q(\"PublicHoliday\")</th>\n",
       "      <td>NaN</td>\n",
       "      <td>NaN</td>\n",
       "      <td>NaN</td>\n",
       "      <td>NaN</td>\n",
       "      <td>NaN</td>\n",
       "      <td>NaN</td>\n",
       "      <td>NaN</td>\n",
       "      <td>NaN</td>\n",
       "      <td>NaN</td>\n",
       "      <td>NaN</td>\n",
       "      <td>NaN</td>\n",
       "      <td>NaN</td>\n",
       "      <td>6.198206e-04</td>\n",
       "      <td>6.221460e-04</td>\n",
       "    </tr>\n",
       "    <tr>\n",
       "      <th>Q(\"SchoolHoliday\")</th>\n",
       "      <td>NaN</td>\n",
       "      <td>NaN</td>\n",
       "      <td>NaN</td>\n",
       "      <td>NaN</td>\n",
       "      <td>NaN</td>\n",
       "      <td>NaN</td>\n",
       "      <td>NaN</td>\n",
       "      <td>1.444213e-02</td>\n",
       "      <td>1.291319e-02</td>\n",
       "      <td>1.294085e-02</td>\n",
       "      <td>1.293722e-02</td>\n",
       "      <td>1.289803e-02</td>\n",
       "      <td>1.289865e-02</td>\n",
       "      <td>1.289030e-02</td>\n",
       "    </tr>\n",
       "    <tr>\n",
       "      <th>Q(\"Seasonal\")</th>\n",
       "      <td>NaN</td>\n",
       "      <td>NaN</td>\n",
       "      <td>NaN</td>\n",
       "      <td>NaN</td>\n",
       "      <td>NaN</td>\n",
       "      <td>NaN</td>\n",
       "      <td>NaN</td>\n",
       "      <td>NaN</td>\n",
       "      <td>-9.818268e-03</td>\n",
       "      <td>-9.716390e-03</td>\n",
       "      <td>-9.711973e-03</td>\n",
       "      <td>-9.732477e-03</td>\n",
       "      <td>-9.739926e-03</td>\n",
       "      <td>-9.740886e-03</td>\n",
       "    </tr>\n",
       "    <tr>\n",
       "      <th>Q(\"SmoothSeasonal\")</th>\n",
       "      <td>NaN</td>\n",
       "      <td>NaN</td>\n",
       "      <td>NaN</td>\n",
       "      <td>NaN</td>\n",
       "      <td>NaN</td>\n",
       "      <td>NaN</td>\n",
       "      <td>5.886046e-02</td>\n",
       "      <td>5.825486e-02</td>\n",
       "      <td>6.141178e-02</td>\n",
       "      <td>6.119047e-02</td>\n",
       "      <td>6.119035e-02</td>\n",
       "      <td>6.119310e-02</td>\n",
       "      <td>6.120157e-02</td>\n",
       "      <td>6.120019e-02</td>\n",
       "    </tr>\n",
       "    <tr>\n",
       "      <th>Q(\"StoreB\")</th>\n",
       "      <td>NaN</td>\n",
       "      <td>NaN</td>\n",
       "      <td>NaN</td>\n",
       "      <td>NaN</td>\n",
       "      <td>NaN</td>\n",
       "      <td>NaN</td>\n",
       "      <td>NaN</td>\n",
       "      <td>NaN</td>\n",
       "      <td>NaN</td>\n",
       "      <td>-3.502831e-02</td>\n",
       "      <td>-3.412693e-02</td>\n",
       "      <td>-3.421102e-02</td>\n",
       "      <td>-3.427238e-02</td>\n",
       "      <td>-3.427040e-02</td>\n",
       "    </tr>\n",
       "    <tr>\n",
       "      <th>Q(\"Trend\")</th>\n",
       "      <td>NaN</td>\n",
       "      <td>1.546170e-01</td>\n",
       "      <td>1.702284e-01</td>\n",
       "      <td>1.654927e-01</td>\n",
       "      <td>1.683395e-01</td>\n",
       "      <td>2.386334e-01</td>\n",
       "      <td>2.381405e-01</td>\n",
       "      <td>2.381032e-01</td>\n",
       "      <td>2.380025e-01</td>\n",
       "      <td>2.711277e-01</td>\n",
       "      <td>2.700825e-01</td>\n",
       "      <td>2.700701e-01</td>\n",
       "      <td>2.700870e-01</td>\n",
       "      <td>2.700568e-01</td>\n",
       "    </tr>\n",
       "    <tr>\n",
       "      <th>rSquared</th>\n",
       "      <td>1.355822e-01</td>\n",
       "      <td>1.594825e-01</td>\n",
       "      <td>1.744411e-01</td>\n",
       "      <td>1.875286e-01</td>\n",
       "      <td>1.942865e-01</td>\n",
       "      <td>1.991591e-01</td>\n",
       "      <td>2.025940e-01</td>\n",
       "      <td>2.027977e-01</td>\n",
       "      <td>2.028821e-01</td>\n",
       "      <td>2.029230e-01</td>\n",
       "      <td>2.029282e-01</td>\n",
       "      <td>2.029303e-01</td>\n",
       "      <td>2.029307e-01</td>\n",
       "      <td>2.029309e-01</td>\n",
       "    </tr>\n",
       "  </tbody>\n",
       "</table>\n",
       "</div>"
      ],
      "text/plain": [
       "No. of Var.s                      1             2             3   \\\n",
       "Intercept               1.218677e-16  1.218677e-16  1.283729e-16   \n",
       "Q(\"AssortmentA\")                 NaN           NaN           NaN   \n",
       "Q(\"AssortmentB\")                 NaN           NaN           NaN   \n",
       "Q(\"AssortmentC\")                 NaN           NaN  1.232977e-01   \n",
       "Q(\"ChristmasHoliday\")            NaN           NaN           NaN   \n",
       "Q(\"DayOfWeek\")                   NaN           NaN           NaN   \n",
       "Q(\"EasterHoliday\")               NaN           NaN           NaN   \n",
       "Q(\"NearbyCompetition\")           NaN           NaN           NaN   \n",
       "Q(\"Promo\")              3.682148e-01  3.706862e-01  3.708410e-01   \n",
       "Q(\"Promo2Precise\")               NaN           NaN           NaN   \n",
       "Q(\"PublicHoliday\")               NaN           NaN           NaN   \n",
       "Q(\"SchoolHoliday\")               NaN           NaN           NaN   \n",
       "Q(\"Seasonal\")                    NaN           NaN           NaN   \n",
       "Q(\"SmoothSeasonal\")              NaN           NaN           NaN   \n",
       "Q(\"StoreB\")                      NaN           NaN           NaN   \n",
       "Q(\"Trend\")                       NaN  1.546170e-01  1.702284e-01   \n",
       "rSquared                1.355822e-01  1.594825e-01  1.744411e-01   \n",
       "\n",
       "No. of Var.s                      4             5             6   \\\n",
       "Intercept               1.283729e-16  1.283729e-16  1.283729e-16   \n",
       "Q(\"AssortmentA\")                 NaN           NaN -1.272634e-01   \n",
       "Q(\"AssortmentB\")                 NaN           NaN -1.240617e-01   \n",
       "Q(\"AssortmentC\")        1.271916e-01  1.274434e-01           NaN   \n",
       "Q(\"ChristmasHoliday\")            NaN           NaN           NaN   \n",
       "Q(\"DayOfWeek\")                   NaN -8.627393e-02 -8.625783e-02   \n",
       "Q(\"EasterHoliday\")               NaN           NaN           NaN   \n",
       "Q(\"NearbyCompetition\")           NaN           NaN           NaN   \n",
       "Q(\"Promo\")              3.712905e-01  3.453111e-01  3.451185e-01   \n",
       "Q(\"Promo2Precise\")     -1.145862e-01 -1.145471e-01 -1.116964e-01   \n",
       "Q(\"PublicHoliday\")               NaN           NaN           NaN   \n",
       "Q(\"SchoolHoliday\")               NaN           NaN           NaN   \n",
       "Q(\"Seasonal\")                    NaN           NaN           NaN   \n",
       "Q(\"SmoothSeasonal\")              NaN           NaN           NaN   \n",
       "Q(\"StoreB\")                      NaN           NaN           NaN   \n",
       "Q(\"Trend\")              1.654927e-01  1.683395e-01  2.386334e-01   \n",
       "rSquared                1.875286e-01  1.942865e-01  1.991591e-01   \n",
       "\n",
       "No. of Var.s                      7             8             9   \\\n",
       "Intercept               1.283729e-16  1.283729e-16  1.283729e-16   \n",
       "Q(\"AssortmentA\")       -1.273146e-01  5.017852e-01  5.015618e-01   \n",
       "Q(\"AssortmentB\")       -1.236680e-01           NaN           NaN   \n",
       "Q(\"AssortmentC\")                 NaN  6.283515e-01  6.280999e-01   \n",
       "Q(\"ChristmasHoliday\")            NaN           NaN           NaN   \n",
       "Q(\"DayOfWeek\")         -8.856920e-02 -8.635369e-02 -8.657929e-02   \n",
       "Q(\"EasterHoliday\")               NaN           NaN           NaN   \n",
       "Q(\"NearbyCompetition\")           NaN           NaN           NaN   \n",
       "Q(\"Promo\")              3.394950e-01  3.397817e-01  3.399144e-01   \n",
       "Q(\"Promo2Precise\")     -1.122898e-01 -1.121913e-01 -1.121728e-01   \n",
       "Q(\"PublicHoliday\")               NaN           NaN           NaN   \n",
       "Q(\"SchoolHoliday\")               NaN  1.444213e-02  1.291319e-02   \n",
       "Q(\"Seasonal\")                    NaN           NaN -9.818268e-03   \n",
       "Q(\"SmoothSeasonal\")     5.886046e-02  5.825486e-02  6.141178e-02   \n",
       "Q(\"StoreB\")                      NaN           NaN           NaN   \n",
       "Q(\"Trend\")              2.381405e-01  2.381032e-01  2.380025e-01   \n",
       "rSquared                2.025940e-01  2.027977e-01  2.028821e-01   \n",
       "\n",
       "No. of Var.s                      10            11            12  \\\n",
       "Intercept               1.283729e-16  1.283729e-16  1.283729e-16   \n",
       "Q(\"AssortmentA\")        4.919277e-01  4.920954e-01 -1.279120e-01   \n",
       "Q(\"AssortmentB\")                 NaN           NaN -1.218745e-01   \n",
       "Q(\"AssortmentC\")        6.189711e-01  6.192481e-01           NaN   \n",
       "Q(\"ChristmasHoliday\")            NaN           NaN           NaN   \n",
       "Q(\"DayOfWeek\")         -8.656539e-02 -8.655811e-02 -8.654464e-02   \n",
       "Q(\"EasterHoliday\")               NaN           NaN  1.464047e-03   \n",
       "Q(\"NearbyCompetition\")           NaN  2.318136e-03  2.326434e-03   \n",
       "Q(\"Promo\")              3.398468e-01  3.398439e-01  3.398525e-01   \n",
       "Q(\"Promo2Precise\")     -1.122796e-01 -1.125638e-01 -1.125612e-01   \n",
       "Q(\"PublicHoliday\")               NaN           NaN           NaN   \n",
       "Q(\"SchoolHoliday\")      1.294085e-02  1.293722e-02  1.289803e-02   \n",
       "Q(\"Seasonal\")          -9.716390e-03 -9.711973e-03 -9.732477e-03   \n",
       "Q(\"SmoothSeasonal\")     6.119047e-02  6.119035e-02  6.119310e-02   \n",
       "Q(\"StoreB\")            -3.502831e-02 -3.412693e-02 -3.421102e-02   \n",
       "Q(\"Trend\")              2.711277e-01  2.700825e-01  2.700701e-01   \n",
       "rSquared                2.029230e-01  2.029282e-01  2.029303e-01   \n",
       "\n",
       "No. of Var.s                      13            14  \n",
       "Intercept               1.283729e-16  1.283729e-16  \n",
       "Q(\"AssortmentA\")        4.921788e-01  4.921748e-01  \n",
       "Q(\"AssortmentB\")                 NaN           NaN  \n",
       "Q(\"AssortmentC\")        6.193247e-01  6.193198e-01  \n",
       "Q(\"ChristmasHoliday\")            NaN  4.212211e-04  \n",
       "Q(\"DayOfWeek\")         -8.654463e-02 -8.654489e-02  \n",
       "Q(\"EasterHoliday\")      1.467905e-03  1.470001e-03  \n",
       "Q(\"NearbyCompetition\")  2.332209e-03  2.332826e-03  \n",
       "Q(\"Promo\")              3.398475e-01  3.398510e-01  \n",
       "Q(\"Promo2Precise\")     -1.125599e-01 -1.125601e-01  \n",
       "Q(\"PublicHoliday\")      6.198206e-04  6.221460e-04  \n",
       "Q(\"SchoolHoliday\")      1.289865e-02  1.289030e-02  \n",
       "Q(\"Seasonal\")          -9.739926e-03 -9.740886e-03  \n",
       "Q(\"SmoothSeasonal\")     6.120157e-02  6.120019e-02  \n",
       "Q(\"StoreB\")            -3.427238e-02 -3.427040e-02  \n",
       "Q(\"Trend\")              2.700870e-01  2.700568e-01  \n",
       "rSquared                2.029307e-01  2.029309e-01  "
      ]
     },
     "execution_count": 91,
     "metadata": {},
     "output_type": "execute_result"
    }
   ],
   "source": [
    "lm_df.T"
   ]
  },
  {
   "cell_type": "code",
   "execution_count": 90,
   "metadata": {},
   "outputs": [],
   "source": [
    "lm_df.to_csv('efs_analysis.csv')"
   ]
  },
  {
   "cell_type": "markdown",
   "metadata": {},
   "source": [
    "https://towardsdatascience.com/an-end-to-end-project-on-time-series-analysis-and-forecasting-with-python-4835e6bf050b"
   ]
  },
  {
   "cell_type": "code",
   "execution_count": 141,
   "metadata": {},
   "outputs": [
    {
     "data": {
      "text/plain": [
       "Q(\"Promo\")                3.712905e-01\n",
       "Q(\"Trend\")                1.654927e-01\n",
       "Q(\"AssortmentC\")          1.271916e-01\n",
       "Q(\"Promo2Precise\")       -1.145862e-01\n",
       "Intercept                 1.283729e-16\n",
       "Q(\"AssortmentA\")                   NaN\n",
       "Q(\"AssortmentB\")                   NaN\n",
       "Q(\"ChristmasHoliday\")              NaN\n",
       "Q(\"DayOfWeek\")                     NaN\n",
       "Q(\"EasterHoliday\")                 NaN\n",
       "Q(\"NearbyCompetition\")             NaN\n",
       "Q(\"PublicHoliday\")                 NaN\n",
       "Q(\"SchoolHoliday\")                 NaN\n",
       "Q(\"Seasonal\")                      NaN\n",
       "Q(\"SmoothSeasonal\")                NaN\n",
       "Q(\"StoreB\")                        NaN\n",
       "Name: 4, dtype: float64"
      ]
     },
     "execution_count": 141,
     "metadata": {},
     "output_type": "execute_result"
    }
   ],
   "source": [
    "lm_df.T[4].reindex(lm_df.drop(columns=['rSquared']).T[4].abs().sort_values(ascending=False).index)"
   ]
  },
  {
   "cell_type": "code",
   "execution_count": 150,
   "metadata": {},
   "outputs": [],
   "source": []
  },
  {
   "cell_type": "code",
   "execution_count": 150,
   "metadata": {},
   "outputs": [],
   "source": [
    "from statsmodels.tools.eval_measures import rmse"
   ]
  },
  {
   "cell_type": "code",
   "execution_count": 202,
   "metadata": {},
   "outputs": [],
   "source": [
    "def root_mean_square_percentage_error(y, y_hat):\n",
    "    \"Evaluate forecasting accuracy.\"\n",
    "    return np.sqrt( ( ( (y-y_hat)/y)**2).mean() ) * 100"
   ]
  },
  {
   "cell_type": "code",
   "execution_count": 203,
   "metadata": {},
   "outputs": [],
   "source": [
    "RMSPE = {}"
   ]
  },
  {
   "cell_type": "code",
   "execution_count": 204,
   "metadata": {},
   "outputs": [],
   "source": [
    "for i in range(1, max_features+1):\n",
    "    RMSPE[i] = root_mean_square_percentage_error(fully_processed.Sales, lm[i].predict())"
   ]
  },
  {
   "cell_type": "code",
   "execution_count": 205,
   "metadata": {},
   "outputs": [
    {
     "data": {
      "text/plain": [
       "{1: 6923.933620551788,\n",
       " 2: 7011.889416531593,\n",
       " 3: 7252.933819310521,\n",
       " 4: 7188.343639023499,\n",
       " 5: 6970.09598139888,\n",
       " 6: 6995.49289809725,\n",
       " 7: 6951.234370068672,\n",
       " 8: 6983.4663253993685,\n",
       " 9: 7018.704742092,\n",
       " 10: 7031.492904325748,\n",
       " 11: 7037.968311018919,\n",
       " 12: 7038.2542727152295,\n",
       " 13: 7037.990379088044,\n",
       " 14: 7037.982823898365}"
      ]
     },
     "execution_count": 205,
     "metadata": {},
     "output_type": "execute_result"
    }
   ],
   "source": [
    "RMSPE"
   ]
  },
  {
   "cell_type": "code",
   "execution_count": 189,
   "metadata": {},
   "outputs": [],
   "source": [
    "RMSE = {}\n"
   ]
  },
  {
   "cell_type": "code",
   "execution_count": 190,
   "metadata": {},
   "outputs": [],
   "source": [
    "for i in range(1, max_features+1):\n",
    "    RMSE[i] = rmse(fully_processed.Sales, lm[i].predict())"
   ]
  },
  {
   "cell_type": "code",
   "execution_count": 191,
   "metadata": {},
   "outputs": [
    {
     "data": {
      "text/plain": [
       "{1: 0.9297407397815011,\n",
       " 2: 0.9167974369153468,\n",
       " 3: 0.90860270112509,\n",
       " 4: 0.9013719607088139,\n",
       " 5: 0.8976154383538176,\n",
       " 6: 0.8948971485111245,\n",
       " 7: 0.8929759013549793,\n",
       " 8: 0.8928618637269959,\n",
       " 9: 0.8928145807051221,\n",
       " 10: 0.8927917034574228,\n",
       " 11: 0.8927887809640467,\n",
       " 12: 0.8927875870768637,\n",
       " 13: 0.8927873736240426,\n",
       " 14: 0.8927872747242467}"
      ]
     },
     "execution_count": 191,
     "metadata": {},
     "output_type": "execute_result"
    }
   ],
   "source": [
    "RMSE"
   ]
  },
  {
   "cell_type": "code",
   "execution_count": null,
   "metadata": {},
   "outputs": [],
   "source": []
  },
  {
   "cell_type": "code",
   "execution_count": null,
   "metadata": {},
   "outputs": [],
   "source": []
  },
  {
   "cell_type": "markdown",
   "metadata": {},
   "source": [
    "## Interpret Key Results, Assumptions and Limitations"
   ]
  },
  {
   "cell_type": "code",
   "execution_count": null,
   "metadata": {},
   "outputs": [],
   "source": []
  },
  {
   "cell_type": "code",
   "execution_count": null,
   "metadata": {},
   "outputs": [],
   "source": []
  },
  {
   "cell_type": "code",
   "execution_count": null,
   "metadata": {},
   "outputs": [],
   "source": []
  },
  {
   "cell_type": "code",
   "execution_count": null,
   "metadata": {},
   "outputs": [],
   "source": []
  },
  {
   "cell_type": "code",
   "execution_count": null,
   "metadata": {},
   "outputs": [],
   "source": []
  },
  {
   "cell_type": "code",
   "execution_count": null,
   "metadata": {},
   "outputs": [],
   "source": []
  },
  {
   "cell_type": "code",
   "execution_count": null,
   "metadata": {},
   "outputs": [],
   "source": []
  }
 ],
 "metadata": {
  "jupytext": {
   "cell_metadata_filter": "-all",
   "formats": "ipynb,Rmd,py:light",
   "notebook_metadata_filter": "-all"
  },
  "kernelspec": {
   "display_name": "Python 3",
   "language": "python",
   "name": "python3"
  },
  "language_info": {
   "codemirror_mode": {
    "name": "ipython",
    "version": 3
   },
   "file_extension": ".py",
   "mimetype": "text/x-python",
   "name": "python",
   "nbconvert_exporter": "python",
   "pygments_lexer": "ipython3",
   "version": "3.8.2"
  }
 },
 "nbformat": 4,
 "nbformat_minor": 4
}
